{
 "cells": [
  {
   "cell_type": "markdown",
   "metadata": {},
   "source": [
    "Publication and citation metrics"
   ]
  },
  {
   "cell_type": "code",
   "execution_count": 90,
   "metadata": {
    "collapsed": true
   },
   "outputs": [],
   "source": [
    "#reading csv file\n",
    "import pandas as pd\n",
    "publication=pd.read_csv(r'C:\\Users\\Mouna\\Desktop\\Fall2018\\DataScience\\Project\\Excel for publications\\all_years_merged(logan,mouna,darpan).csv',encoding='cp1252', dtype='str', error_bad_lines=False)\n"
   ]
  },
  {
   "cell_type": "code",
   "execution_count": 91,
   "metadata": {
    "collapsed": true
   },
   "outputs": [],
   "source": [
    "publication['cite']=pd.to_numeric(publication['cite'])"
   ]
  },
  {
   "cell_type": "code",
   "execution_count": 146,
   "metadata": {
    "collapsed": true
   },
   "outputs": [],
   "source": [
    "# grouping with publication venu\n",
    "publication_df=publication.groupby('publication_name')['cite'].agg(['sum','count','mean']).reset_index()"
   ]
  },
  {
   "cell_type": "code",
   "execution_count": 147,
   "metadata": {
    "collapsed": true
   },
   "outputs": [],
   "source": [
    "#sorting to get top 5\n",
    "publication_df=publication_df.sort_values(by='count', ascending=False).head()"
   ]
  },
  {
   "cell_type": "code",
   "execution_count": 148,
   "metadata": {},
   "outputs": [
    {
     "data": {
      "text/html": [
       "<div>\n",
       "<style>\n",
       "    .dataframe thead tr:only-child th {\n",
       "        text-align: right;\n",
       "    }\n",
       "\n",
       "    .dataframe thead th {\n",
       "        text-align: left;\n",
       "    }\n",
       "\n",
       "    .dataframe tbody tr th {\n",
       "        vertical-align: top;\n",
       "    }\n",
       "</style>\n",
       "<table border=\"1\" class=\"dataframe\">\n",
       "  <thead>\n",
       "    <tr style=\"text-align: right;\">\n",
       "      <th></th>\n",
       "      <th>publication_name</th>\n",
       "      <th>sum</th>\n",
       "      <th>count</th>\n",
       "      <th>mean</th>\n",
       "    </tr>\n",
       "  </thead>\n",
       "  <tbody>\n",
       "    <tr>\n",
       "      <th>6031</th>\n",
       "      <td>Lecture Notes in Computer Science (including s...</td>\n",
       "      <td>9321</td>\n",
       "      <td>7657</td>\n",
       "      <td>1.217317</td>\n",
       "    </tr>\n",
       "    <tr>\n",
       "      <th>1769</th>\n",
       "      <td>Bioinformatics</td>\n",
       "      <td>129777</td>\n",
       "      <td>2230</td>\n",
       "      <td>58.195964</td>\n",
       "    </tr>\n",
       "    <tr>\n",
       "      <th>1564</th>\n",
       "      <td>BMC Bioinformatics</td>\n",
       "      <td>57517</td>\n",
       "      <td>2039</td>\n",
       "      <td>28.208436</td>\n",
       "    </tr>\n",
       "    <tr>\n",
       "      <th>221</th>\n",
       "      <td>2010 4th International Conference on Bioinform...</td>\n",
       "      <td>69</td>\n",
       "      <td>2018</td>\n",
       "      <td>0.034192</td>\n",
       "    </tr>\n",
       "    <tr>\n",
       "      <th>6914</th>\n",
       "      <td>PLoS ONE</td>\n",
       "      <td>28660</td>\n",
       "      <td>1917</td>\n",
       "      <td>14.950443</td>\n",
       "    </tr>\n",
       "  </tbody>\n",
       "</table>\n",
       "</div>"
      ],
      "text/plain": [
       "                                       publication_name     sum  count  \\\n",
       "6031  Lecture Notes in Computer Science (including s...    9321   7657   \n",
       "1769                                     Bioinformatics  129777   2230   \n",
       "1564                                 BMC Bioinformatics   57517   2039   \n",
       "221   2010 4th International Conference on Bioinform...      69   2018   \n",
       "6914                                           PLoS ONE   28660   1917   \n",
       "\n",
       "           mean  \n",
       "6031   1.217317  \n",
       "1769  58.195964  \n",
       "1564  28.208436  \n",
       "221    0.034192  \n",
       "6914  14.950443  "
      ]
     },
     "execution_count": 148,
     "metadata": {},
     "output_type": "execute_result"
    }
   ],
   "source": [
    "publication_df"
   ]
  },
  {
   "cell_type": "code",
   "execution_count": 95,
   "metadata": {},
   "outputs": [
    {
     "data": {
      "text/plain": [
       "6031    Lecture Notes in Computer Science (including s...\n",
       "1769                                       Bioinformatics\n",
       "1564                                   BMC Bioinformatics\n",
       "221     2010 4th International Conference on Bioinform...\n",
       "6914                                             PLoS ONE\n",
       "Name: publication_name, dtype: object"
      ]
     },
     "execution_count": 95,
     "metadata": {},
     "output_type": "execute_result"
    }
   ],
   "source": [
    "publication_df['publication_name']"
   ]
  },
  {
   "cell_type": "code",
   "execution_count": 96,
   "metadata": {
    "collapsed": true
   },
   "outputs": [],
   "source": [
    "mergedStuff = pd.merge(publication, publication_df, on=\"publication_name\")"
   ]
  },
  {
   "cell_type": "code",
   "execution_count": 97,
   "metadata": {},
   "outputs": [
    {
     "data": {
      "text/html": [
       "<div>\n",
       "<style>\n",
       "    .dataframe thead tr:only-child th {\n",
       "        text-align: right;\n",
       "    }\n",
       "\n",
       "    .dataframe thead th {\n",
       "        text-align: left;\n",
       "    }\n",
       "\n",
       "    .dataframe tbody tr th {\n",
       "        vertical-align: top;\n",
       "    }\n",
       "</style>\n",
       "<table border=\"1\" class=\"dataframe\">\n",
       "  <thead>\n",
       "    <tr style=\"text-align: right;\">\n",
       "      <th></th>\n",
       "      <th>eid</th>\n",
       "      <th>cite</th>\n",
       "      <th>Lang</th>\n",
       "      <th>Para</th>\n",
       "      <th>Title</th>\n",
       "      <th>year</th>\n",
       "      <th>publication_name</th>\n",
       "      <th>publication_type</th>\n",
       "      <th>Author Keyword</th>\n",
       "      <th>Abbreviation</th>\n",
       "      <th>Code</th>\n",
       "      <th>Text</th>\n",
       "      <th>sum</th>\n",
       "      <th>count</th>\n",
       "    </tr>\n",
       "  </thead>\n",
       "  <tbody>\n",
       "    <tr>\n",
       "      <th>0</th>\n",
       "      <td>2-s2.0-37349065612</td>\n",
       "      <td>6</td>\n",
       "      <td>eng</td>\n",
       "      <td>This paper describes a Ventricular Tachycardia...</td>\n",
       "      <td>Ventricular tachycardia/fibrillation detection...</td>\n",
       "      <td>2007</td>\n",
       "      <td>Lecture Notes in Computer Science (including s...</td>\n",
       "      <td>Book Series</td>\n",
       "      <td>['ECG signal processing', 'Heart monitoring', ...</td>\n",
       "      <td>ENGI</td>\n",
       "      <td>2200</td>\n",
       "      <td>Engineering (all)</td>\n",
       "      <td>9321</td>\n",
       "      <td>7657</td>\n",
       "    </tr>\n",
       "    <tr>\n",
       "      <th>1</th>\n",
       "      <td>2-s2.0-37349030190</td>\n",
       "      <td>1</td>\n",
       "      <td>eng</td>\n",
       "      <td>This paper presented an image reconstruction m...</td>\n",
       "      <td>Composite endoscope images from massive inner ...</td>\n",
       "      <td>2007</td>\n",
       "      <td>Lecture Notes in Computer Science (including s...</td>\n",
       "      <td>Book Series</td>\n",
       "      <td>['3-D modeling', 'Bioinformatics', 'Capsule en...</td>\n",
       "      <td>MATH</td>\n",
       "      <td>2614</td>\n",
       "      <td>Theoretical Computer Science</td>\n",
       "      <td>9321</td>\n",
       "      <td>7657</td>\n",
       "    </tr>\n",
       "    <tr>\n",
       "      <th>2</th>\n",
       "      <td>2-s2.0-37349071519</td>\n",
       "      <td>8</td>\n",
       "      <td>eng</td>\n",
       "      <td>We extend the standard rough set-based approac...</td>\n",
       "      <td>Roughfication of numeric decision tables: The ...</td>\n",
       "      <td>2007</td>\n",
       "      <td>Lecture Notes in Computer Science (including s...</td>\n",
       "      <td>Book Series</td>\n",
       "      <td>['Discretization', 'Gene expression data', 'Re...</td>\n",
       "      <td>BIOC</td>\n",
       "      <td>1312</td>\n",
       "      <td>Molecular Biology</td>\n",
       "      <td>9321</td>\n",
       "      <td>7657</td>\n",
       "    </tr>\n",
       "    <tr>\n",
       "      <th>3</th>\n",
       "      <td>2-s2.0-37249048033</td>\n",
       "      <td>0</td>\n",
       "      <td>eng</td>\n",
       "      <td>Availability of computer resources is key fact...</td>\n",
       "      <td>Design and implementation of computational bio...</td>\n",
       "      <td>2007</td>\n",
       "      <td>Lecture Notes in Computer Science (including s...</td>\n",
       "      <td>Book Series</td>\n",
       "      <td>NaN</td>\n",
       "      <td>AGRI</td>\n",
       "      <td>1100</td>\n",
       "      <td>Agricultural and Biological Sciences (all)</td>\n",
       "      <td>9321</td>\n",
       "      <td>7657</td>\n",
       "    </tr>\n",
       "    <tr>\n",
       "      <th>4</th>\n",
       "      <td>2-s2.0-37249038031</td>\n",
       "      <td>0</td>\n",
       "      <td>eng</td>\n",
       "      <td>The proceedings contain 38 papers. The topics ...</td>\n",
       "      <td>Algorithms in Bioinformatics - 7th Internation...</td>\n",
       "      <td>2007</td>\n",
       "      <td>Lecture Notes in Computer Science (including s...</td>\n",
       "      <td>Book Series</td>\n",
       "      <td>NaN</td>\n",
       "      <td>AGRI</td>\n",
       "      <td>1101</td>\n",
       "      <td>Agricultural and Biological Sciences (miscella...</td>\n",
       "      <td>9321</td>\n",
       "      <td>7657</td>\n",
       "    </tr>\n",
       "  </tbody>\n",
       "</table>\n",
       "</div>"
      ],
      "text/plain": [
       "                  eid  cite Lang  \\\n",
       "0  2-s2.0-37349065612     6  eng   \n",
       "1  2-s2.0-37349030190     1  eng   \n",
       "2  2-s2.0-37349071519     8  eng   \n",
       "3  2-s2.0-37249048033     0  eng   \n",
       "4  2-s2.0-37249038031     0  eng   \n",
       "\n",
       "                                                Para  \\\n",
       "0  This paper describes a Ventricular Tachycardia...   \n",
       "1  This paper presented an image reconstruction m...   \n",
       "2  We extend the standard rough set-based approac...   \n",
       "3  Availability of computer resources is key fact...   \n",
       "4  The proceedings contain 38 papers. The topics ...   \n",
       "\n",
       "                                               Title  year  \\\n",
       "0  Ventricular tachycardia/fibrillation detection...  2007   \n",
       "1  Composite endoscope images from massive inner ...  2007   \n",
       "2  Roughfication of numeric decision tables: The ...  2007   \n",
       "3  Design and implementation of computational bio...  2007   \n",
       "4  Algorithms in Bioinformatics - 7th Internation...  2007   \n",
       "\n",
       "                                    publication_name publication_type  \\\n",
       "0  Lecture Notes in Computer Science (including s...      Book Series   \n",
       "1  Lecture Notes in Computer Science (including s...      Book Series   \n",
       "2  Lecture Notes in Computer Science (including s...      Book Series   \n",
       "3  Lecture Notes in Computer Science (including s...      Book Series   \n",
       "4  Lecture Notes in Computer Science (including s...      Book Series   \n",
       "\n",
       "                                      Author Keyword Abbreviation  Code  \\\n",
       "0  ['ECG signal processing', 'Heart monitoring', ...         ENGI  2200   \n",
       "1  ['3-D modeling', 'Bioinformatics', 'Capsule en...         MATH  2614   \n",
       "2  ['Discretization', 'Gene expression data', 'Re...         BIOC  1312   \n",
       "3                                                NaN         AGRI  1100   \n",
       "4                                                NaN         AGRI  1101   \n",
       "\n",
       "                                                Text   sum  count  \n",
       "0                                  Engineering (all)  9321   7657  \n",
       "1                       Theoretical Computer Science  9321   7657  \n",
       "2                                  Molecular Biology  9321   7657  \n",
       "3         Agricultural and Biological Sciences (all)  9321   7657  \n",
       "4  Agricultural and Biological Sciences (miscella...  9321   7657  "
      ]
     },
     "execution_count": 97,
     "metadata": {},
     "output_type": "execute_result"
    }
   ],
   "source": [
    "mergedStuff.head()"
   ]
  },
  {
   "cell_type": "code",
   "execution_count": 98,
   "metadata": {
    "collapsed": true
   },
   "outputs": [],
   "source": [
    "#pulling all citations for top 5 publication venues\n",
    "publication_citation=publication.loc[publication['publication_name'].isin(publication_df['publication_name'])]"
   ]
  },
  {
   "cell_type": "code",
   "execution_count": 99,
   "metadata": {},
   "outputs": [
    {
     "data": {
      "text/plain": [
       "['eid',\n",
       " 'cite',\n",
       " 'Lang',\n",
       " 'Para',\n",
       " 'Title',\n",
       " 'year',\n",
       " 'publication_name',\n",
       " 'publication_type',\n",
       " 'Author Keyword',\n",
       " 'Abbreviation',\n",
       " 'Code',\n",
       " 'Text']"
      ]
     },
     "execution_count": 99,
     "metadata": {},
     "output_type": "execute_result"
    }
   ],
   "source": [
    "list(publication_citation)"
   ]
  },
  {
   "cell_type": "code",
   "execution_count": 100,
   "metadata": {
    "collapsed": true
   },
   "outputs": [],
   "source": [
    "import seaborn as sns\n",
    "import matplotlib.pyplot as plt"
   ]
  },
  {
   "cell_type": "code",
   "execution_count": 125,
   "metadata": {},
   "outputs": [
    {
     "data": {
      "text/plain": [
       "<matplotlib.axes._subplots.AxesSubplot at 0x1f2dc5d0dd8>"
      ]
     },
     "execution_count": 125,
     "metadata": {},
     "output_type": "execute_result"
    }
   ],
   "source": [
    "sns.boxplot(y='publication_name', x='cite', data=publication_citation)"
   ]
  },
  {
   "cell_type": "code",
   "execution_count": 102,
   "metadata": {},
   "outputs": [
    {
     "data": {
      "image/png": "[encoded data removed]",
      "text/plain": [
       "<matplotlib.figure.Figure at 0x1f2dae3ad68>"
      ]
     },
     "metadata": {},
     "output_type": "display_data"
    }
   ],
   "source": [
    "plt.show()"
   ]
  },
  {
   "cell_type": "code",
   "execution_count": 119,
   "metadata": {},
   "outputs": [
    {
     "data": {
      "text/plain": [
       "(0, 4000)"
      ]
     },
     "execution_count": 119,
     "metadata": {},
     "output_type": "execute_result"
    }
   ],
   "source": [
    "plt.xlim(0, 4000)"
   ]
  },
  {
   "cell_type": "code",
   "execution_count": 120,
   "metadata": {},
   "outputs": [
    {
     "data": {
      "image/png": "[encoded data removed]",
      "text/plain": [
       "<matplotlib.figure.Figure at 0x1f2dc308278>"
      ]
     },
     "metadata": {},
     "output_type": "display_data"
    }
   ],
   "source": [
    "plt.show()"
   ]
  },
  {
   "cell_type": "code",
   "execution_count": 123,
   "metadata": {},
   "outputs": [
    {
     "data": {
      "text/plain": [
       "(0, 400)"
      ]
     },
     "execution_count": 123,
     "metadata": {},
     "output_type": "execute_result"
    }
   ],
   "source": [
    "plt.xlim(0, 400)"
   ]
  },
  {
   "cell_type": "code",
   "execution_count": 124,
   "metadata": {},
   "outputs": [
    {
     "data": {
      "image/png": "[encoded data removed]",
      "text/plain": [
       "<matplotlib.figure.Figure at 0x1f2dc3d5898>"
      ]
     },
     "metadata": {},
     "output_type": "display_data"
    }
   ],
   "source": [
    "plt.show()"
   ]
  },
  {
   "cell_type": "code",
   "execution_count": 126,
   "metadata": {},
   "outputs": [
    {
     "data": {
      "text/plain": [
       "(0, 50)"
      ]
     },
     "execution_count": 126,
     "metadata": {},
     "output_type": "execute_result"
    }
   ],
   "source": [
    "plt.xlim(0, 50)"
   ]
  },
  {
   "cell_type": "code",
   "execution_count": 127,
   "metadata": {},
   "outputs": [
    {
     "data": {
      "image/png": "[encoded data removed]",
      "text/plain": [
       "<matplotlib.figure.Figure at 0x1f2d9b5c710>"
      ]
     },
     "metadata": {},
     "output_type": "display_data"
    }
   ],
   "source": [
    "plt.show()"
   ]
  },
  {
   "cell_type": "code",
   "execution_count": 109,
   "metadata": {},
   "outputs": [],
   "source": [
    "plt.show()"
   ]
  },
  {
   "cell_type": "code",
   "execution_count": 191,
   "metadata": {
    "collapsed": true
   },
   "outputs": [],
   "source": [
    "# getig top 5 based on citations\n",
    "top=publication.groupby('publication_name')['cite'].agg(['sum','count']).reset_index()"
   ]
  },
  {
   "cell_type": "code",
   "execution_count": 192,
   "metadata": {
    "collapsed": true
   },
   "outputs": [],
   "source": [
    "top_6=top.sort_values(by='count', ascending=False)"
   ]
  },
  {
   "cell_type": "code",
   "execution_count": 193,
   "metadata": {
    "collapsed": true
   },
   "outputs": [],
   "source": [
    "top_6=top_6[1:6]"
   ]
  },
  {
   "cell_type": "code",
   "execution_count": 194,
   "metadata": {},
   "outputs": [
    {
     "data": {
      "text/html": [
       "<div>\n",
       "<style>\n",
       "    .dataframe thead tr:only-child th {\n",
       "        text-align: right;\n",
       "    }\n",
       "\n",
       "    .dataframe thead th {\n",
       "        text-align: left;\n",
       "    }\n",
       "\n",
       "    .dataframe tbody tr th {\n",
       "        vertical-align: top;\n",
       "    }\n",
       "</style>\n",
       "<table border=\"1\" class=\"dataframe\">\n",
       "  <thead>\n",
       "    <tr style=\"text-align: right;\">\n",
       "      <th></th>\n",
       "      <th>publication_name</th>\n",
       "      <th>sum</th>\n",
       "      <th>count</th>\n",
       "    </tr>\n",
       "  </thead>\n",
       "  <tbody>\n",
       "    <tr>\n",
       "      <th>1769</th>\n",
       "      <td>Bioinformatics</td>\n",
       "      <td>129777</td>\n",
       "      <td>2230</td>\n",
       "    </tr>\n",
       "    <tr>\n",
       "      <th>1564</th>\n",
       "      <td>BMC Bioinformatics</td>\n",
       "      <td>57517</td>\n",
       "      <td>2039</td>\n",
       "    </tr>\n",
       "    <tr>\n",
       "      <th>221</th>\n",
       "      <td>2010 4th International Conference on Bioinform...</td>\n",
       "      <td>69</td>\n",
       "      <td>2018</td>\n",
       "    </tr>\n",
       "    <tr>\n",
       "      <th>6914</th>\n",
       "      <td>PLoS ONE</td>\n",
       "      <td>28660</td>\n",
       "      <td>1917</td>\n",
       "    </tr>\n",
       "    <tr>\n",
       "      <th>671</th>\n",
       "      <td>3rd International Conference on Bioinformatics...</td>\n",
       "      <td>33</td>\n",
       "      <td>1632</td>\n",
       "    </tr>\n",
       "  </tbody>\n",
       "</table>\n",
       "</div>"
      ],
      "text/plain": [
       "                                       publication_name     sum  count\n",
       "1769                                     Bioinformatics  129777   2230\n",
       "1564                                 BMC Bioinformatics   57517   2039\n",
       "221   2010 4th International Conference on Bioinform...      69   2018\n",
       "6914                                           PLoS ONE   28660   1917\n",
       "671   3rd International Conference on Bioinformatics...      33   1632"
      ]
     },
     "execution_count": 194,
     "metadata": {},
     "output_type": "execute_result"
    }
   ],
   "source": [
    "top_6"
   ]
  },
  {
   "cell_type": "code",
   "execution_count": 113,
   "metadata": {
    "collapsed": true
   },
   "outputs": [],
   "source": [
    "top_publication=publication.loc[publication['publication_name'].isin(top_6['publication_name'])]"
   ]
  },
  {
   "cell_type": "code",
   "execution_count": 145,
   "metadata": {},
   "outputs": [
    {
     "data": {
      "image/png": "[encoded data removed]",
      "text/plain": [
       "<matplotlib.figure.Figure at 0x1f2e6bb4e48>"
      ]
     },
     "metadata": {},
     "output_type": "display_data"
    }
   ],
   "source": [
    "sns.boxplot(y='publication_name', x='cite', data=top_publication)\n",
    "plt.xlim(0, 100)\n",
    "plt.show()"
   ]
  },
  {
   "cell_type": "code",
   "execution_count": 115,
   "metadata": {},
   "outputs": [
    {
     "data": {
      "text/html": [
       "<div>\n",
       "<style>\n",
       "    .dataframe thead tr:only-child th {\n",
       "        text-align: right;\n",
       "    }\n",
       "\n",
       "    .dataframe thead th {\n",
       "        text-align: left;\n",
       "    }\n",
       "\n",
       "    .dataframe tbody tr th {\n",
       "        vertical-align: top;\n",
       "    }\n",
       "</style>\n",
       "<table border=\"1\" class=\"dataframe\">\n",
       "  <thead>\n",
       "    <tr style=\"text-align: right;\">\n",
       "      <th></th>\n",
       "      <th>publication_name</th>\n",
       "      <th>mean</th>\n",
       "      <th>count</th>\n",
       "    </tr>\n",
       "  </thead>\n",
       "  <tbody>\n",
       "    <tr>\n",
       "      <th>1307</th>\n",
       "      <td>Annual Review of Immunology</td>\n",
       "      <td>923.5</td>\n",
       "      <td>2</td>\n",
       "    </tr>\n",
       "    <tr>\n",
       "      <th>6260</th>\n",
       "      <td>Metaheuristics: From Design to Implementation</td>\n",
       "      <td>823.0</td>\n",
       "      <td>1</td>\n",
       "    </tr>\n",
       "    <tr>\n",
       "      <th>6743</th>\n",
       "      <td>Nonnegative Matrix and Tensor Factorizations: ...</td>\n",
       "      <td>813.0</td>\n",
       "      <td>1</td>\n",
       "    </tr>\n",
       "    <tr>\n",
       "      <th>4965</th>\n",
       "      <td>Invitation to Fixed-Parameter Algorithms</td>\n",
       "      <td>779.0</td>\n",
       "      <td>1</td>\n",
       "    </tr>\n",
       "    <tr>\n",
       "      <th>6585</th>\n",
       "      <td>Nature Reviews Endocrinology</td>\n",
       "      <td>510.0</td>\n",
       "      <td>1</td>\n",
       "    </tr>\n",
       "  </tbody>\n",
       "</table>\n",
       "</div>"
      ],
      "text/plain": [
       "                                       publication_name   mean  count\n",
       "1307                        Annual Review of Immunology  923.5      2\n",
       "6260      Metaheuristics: From Design to Implementation  823.0      1\n",
       "6743  Nonnegative Matrix and Tensor Factorizations: ...  813.0      1\n",
       "4965           Invitation to Fixed-Parameter Algorithms  779.0      1\n",
       "6585                       Nature Reviews Endocrinology  510.0      1"
      ]
     },
     "execution_count": 115,
     "metadata": {},
     "output_type": "execute_result"
    }
   ],
   "source": [
    "top.sort_values(by='mean', ascending=False).head()"
   ]
  },
  {
   "cell_type": "code",
   "execution_count": 116,
   "metadata": {
    "collapsed": true
   },
   "outputs": [],
   "source": [
    "# restricting minimun number of publications to 5\n",
    "top_5=top.loc[top['count']>5]"
   ]
  },
  {
   "cell_type": "code",
   "execution_count": 117,
   "metadata": {
    "collapsed": true
   },
   "outputs": [],
   "source": [
    "top_5=top_5.sort_values(by='mean', ascending=False).head()"
   ]
  },
  {
   "cell_type": "code",
   "execution_count": 153,
   "metadata": {},
   "outputs": [
    {
     "data": {
      "text/html": [
       "<div>\n",
       "<style>\n",
       "    .dataframe thead tr:only-child th {\n",
       "        text-align: right;\n",
       "    }\n",
       "\n",
       "    .dataframe thead th {\n",
       "        text-align: left;\n",
       "    }\n",
       "\n",
       "    .dataframe tbody tr th {\n",
       "        vertical-align: top;\n",
       "    }\n",
       "</style>\n",
       "<table border=\"1\" class=\"dataframe\">\n",
       "  <thead>\n",
       "    <tr style=\"text-align: right;\">\n",
       "      <th></th>\n",
       "      <th>publication_name</th>\n",
       "      <th>mean</th>\n",
       "      <th>count</th>\n",
       "    </tr>\n",
       "  </thead>\n",
       "  <tbody>\n",
       "    <tr>\n",
       "      <th>6581</th>\n",
       "      <td>Nature Reviews Cancer</td>\n",
       "      <td>482.916667</td>\n",
       "      <td>12</td>\n",
       "    </tr>\n",
       "    <tr>\n",
       "      <th>6384</th>\n",
       "      <td>Molecular Biology and Evolution</td>\n",
       "      <td>451.561404</td>\n",
       "      <td>57</td>\n",
       "    </tr>\n",
       "    <tr>\n",
       "      <th>3756</th>\n",
       "      <td>Genome biology</td>\n",
       "      <td>401.190476</td>\n",
       "      <td>21</td>\n",
       "    </tr>\n",
       "    <tr>\n",
       "      <th>6580</th>\n",
       "      <td>Nature Protocols</td>\n",
       "      <td>380.973684</td>\n",
       "      <td>38</td>\n",
       "    </tr>\n",
       "    <tr>\n",
       "      <th>9212</th>\n",
       "      <td>Systematic Biology</td>\n",
       "      <td>369.181818</td>\n",
       "      <td>11</td>\n",
       "    </tr>\n",
       "  </tbody>\n",
       "</table>\n",
       "</div>"
      ],
      "text/plain": [
       "                     publication_name        mean  count\n",
       "6581            Nature Reviews Cancer  482.916667     12\n",
       "6384  Molecular Biology and Evolution  451.561404     57\n",
       "3756                   Genome biology  401.190476     21\n",
       "6580                 Nature Protocols  380.973684     38\n",
       "9212               Systematic Biology  369.181818     11"
      ]
     },
     "execution_count": 153,
     "metadata": {},
     "output_type": "execute_result"
    }
   ],
   "source": [
    "top_5"
   ]
  },
  {
   "cell_type": "code",
   "execution_count": 53,
   "metadata": {
    "collapsed": true
   },
   "outputs": [],
   "source": [
    "top_citation=publication.loc[publication['publication_name'].isin(top_5['publication_name'])]"
   ]
  },
  {
   "cell_type": "code",
   "execution_count": null,
   "metadata": {
    "collapsed": true
   },
   "outputs": [],
   "source": [
    "top_citation.head"
   ]
  },
  {
   "cell_type": "code",
   "execution_count": 187,
   "metadata": {},
   "outputs": [
    {
     "data": {
      "image/png": "[encoded data removed]",
      "text/plain": [
       "<matplotlib.figure.Figure at 0x1f2dc301240>"
      ]
     },
     "metadata": {},
     "output_type": "display_data"
    }
   ],
   "source": [
    "sns.boxplot(y='publication_name', x='cite', data=top_citation)\n",
    "#plt.xlim(0, 570)\n",
    "plt.show()"
   ]
  },
  {
   "cell_type": "code",
   "execution_count": 128,
   "metadata": {},
   "outputs": [
    {
     "data": {
      "text/html": [
       "<div>\n",
       "<style>\n",
       "    .dataframe thead tr:only-child th {\n",
       "        text-align: right;\n",
       "    }\n",
       "\n",
       "    .dataframe thead th {\n",
       "        text-align: left;\n",
       "    }\n",
       "\n",
       "    .dataframe tbody tr th {\n",
       "        vertical-align: top;\n",
       "    }\n",
       "</style>\n",
       "<table border=\"1\" class=\"dataframe\">\n",
       "  <thead>\n",
       "    <tr style=\"text-align: right;\">\n",
       "      <th></th>\n",
       "      <th>eid</th>\n",
       "      <th>cite</th>\n",
       "      <th>Lang</th>\n",
       "      <th>Para</th>\n",
       "      <th>Title</th>\n",
       "      <th>year</th>\n",
       "      <th>publication_name</th>\n",
       "      <th>publication_type</th>\n",
       "      <th>Author Keyword</th>\n",
       "      <th>Abbreviation</th>\n",
       "      <th>Code</th>\n",
       "      <th>Text</th>\n",
       "    </tr>\n",
       "  </thead>\n",
       "  <tbody>\n",
       "    <tr>\n",
       "      <th>2173</th>\n",
       "      <td>2-s2.0-35348824294</td>\n",
       "      <td>17</td>\n",
       "      <td>eng</td>\n",
       "      <td>We devised a bioinformatics method for systema...</td>\n",
       "      <td>Inactivation of MOXD2 and S100A15A by exon del...</td>\n",
       "      <td>2007</td>\n",
       "      <td>Molecular Biology and Evolution</td>\n",
       "      <td>Journal</td>\n",
       "      <td>['Chimpanzee', 'Exon deletion', 'Gene inactiva...</td>\n",
       "      <td>CENG</td>\n",
       "      <td>1502</td>\n",
       "      <td>Bioengineering</td>\n",
       "    </tr>\n",
       "    <tr>\n",
       "      <th>2610</th>\n",
       "      <td>2-s2.0-34547093612</td>\n",
       "      <td>28</td>\n",
       "      <td>eng</td>\n",
       "      <td>Irreversible covalent inhibitors equipped with...</td>\n",
       "      <td>Active-site directed probes to report enzymati...</td>\n",
       "      <td>2007</td>\n",
       "      <td>Nature Reviews Cancer</td>\n",
       "      <td>Journal</td>\n",
       "      <td>NaN</td>\n",
       "      <td>MEDI</td>\n",
       "      <td>2718</td>\n",
       "      <td>Health Informatics</td>\n",
       "    </tr>\n",
       "    <tr>\n",
       "      <th>2749</th>\n",
       "      <td>2-s2.0-34547781221</td>\n",
       "      <td>27</td>\n",
       "      <td>eng</td>\n",
       "      <td>A putative operon containing homologues of ess...</td>\n",
       "      <td>Lanosterol biosynthesis in the prokaryote Meth...</td>\n",
       "      <td>2007</td>\n",
       "      <td>Molecular Biology and Evolution</td>\n",
       "      <td>Journal</td>\n",
       "      <td>['Cytochrome P450', 'Evolution', 'Methylococcu...</td>\n",
       "      <td>MEDI</td>\n",
       "      <td>2718</td>\n",
       "      <td>Health Informatics</td>\n",
       "    </tr>\n",
       "    <tr>\n",
       "      <th>3501</th>\n",
       "      <td>2-s2.0-34250199325</td>\n",
       "      <td>73</td>\n",
       "      <td>eng</td>\n",
       "      <td>Imaging mass spectrometry (IMS) allows the dir...</td>\n",
       "      <td>Imaging mass spectrometry at cellular length s...</td>\n",
       "      <td>2007</td>\n",
       "      <td>Nature Protocols</td>\n",
       "      <td>Journal</td>\n",
       "      <td>NaN</td>\n",
       "      <td>CENG</td>\n",
       "      <td>1502</td>\n",
       "      <td>Bioengineering</td>\n",
       "    </tr>\n",
       "    <tr>\n",
       "      <th>3513</th>\n",
       "      <td>2-s2.0-34548591633</td>\n",
       "      <td>73</td>\n",
       "      <td>eng</td>\n",
       "      <td>The amplified fragment length polymorphism (AF...</td>\n",
       "      <td>The utility of amplified fragment length polym...</td>\n",
       "      <td>2007</td>\n",
       "      <td>Systematic Biology</td>\n",
       "      <td>Journal</td>\n",
       "      <td>['AFLP', 'Bioinformatics', 'DNA sequence', 'Ge...</td>\n",
       "      <td>BIOC</td>\n",
       "      <td>1300</td>\n",
       "      <td>Biochemistry, Genetics and Molecular Biology (...</td>\n",
       "    </tr>\n",
       "  </tbody>\n",
       "</table>\n",
       "</div>"
      ],
      "text/plain": [
       "                     eid  cite Lang  \\\n",
       "2173  2-s2.0-35348824294    17  eng   \n",
       "2610  2-s2.0-34547093612    28  eng   \n",
       "2749  2-s2.0-34547781221    27  eng   \n",
       "3501  2-s2.0-34250199325    73  eng   \n",
       "3513  2-s2.0-34548591633    73  eng   \n",
       "\n",
       "                                                   Para  \\\n",
       "2173  We devised a bioinformatics method for systema...   \n",
       "2610  Irreversible covalent inhibitors equipped with...   \n",
       "2749  A putative operon containing homologues of ess...   \n",
       "3501  Imaging mass spectrometry (IMS) allows the dir...   \n",
       "3513  The amplified fragment length polymorphism (AF...   \n",
       "\n",
       "                                                  Title  year  \\\n",
       "2173  Inactivation of MOXD2 and S100A15A by exon del...  2007   \n",
       "2610  Active-site directed probes to report enzymati...  2007   \n",
       "2749  Lanosterol biosynthesis in the prokaryote Meth...  2007   \n",
       "3501  Imaging mass spectrometry at cellular length s...  2007   \n",
       "3513  The utility of amplified fragment length polym...  2007   \n",
       "\n",
       "                     publication_name publication_type  \\\n",
       "2173  Molecular Biology and Evolution          Journal   \n",
       "2610            Nature Reviews Cancer          Journal   \n",
       "2749  Molecular Biology and Evolution          Journal   \n",
       "3501                 Nature Protocols          Journal   \n",
       "3513               Systematic Biology          Journal   \n",
       "\n",
       "                                         Author Keyword Abbreviation  Code  \\\n",
       "2173  ['Chimpanzee', 'Exon deletion', 'Gene inactiva...         CENG  1502   \n",
       "2610                                                NaN         MEDI  2718   \n",
       "2749  ['Cytochrome P450', 'Evolution', 'Methylococcu...         MEDI  2718   \n",
       "3501                                                NaN         CENG  1502   \n",
       "3513  ['AFLP', 'Bioinformatics', 'DNA sequence', 'Ge...         BIOC  1300   \n",
       "\n",
       "                                                   Text  \n",
       "2173                                     Bioengineering  \n",
       "2610                                 Health Informatics  \n",
       "2749                                 Health Informatics  \n",
       "3501                                     Bioengineering  \n",
       "3513  Biochemistry, Genetics and Molecular Biology (...  "
      ]
     },
     "execution_count": 128,
     "metadata": {},
     "output_type": "execute_result"
    }
   ],
   "source": [
    "top_citation.head()"
   ]
  },
  {
   "cell_type": "code",
   "execution_count": 175,
   "metadata": {
    "scrolled": false
   },
   "outputs": [
    {
     "data": {
      "text/html": [
       "<div>\n",
       "<style>\n",
       "    .dataframe thead tr:only-child th {\n",
       "        text-align: right;\n",
       "    }\n",
       "\n",
       "    .dataframe thead th {\n",
       "        text-align: left;\n",
       "    }\n",
       "\n",
       "    .dataframe tbody tr th {\n",
       "        vertical-align: top;\n",
       "    }\n",
       "</style>\n",
       "<table border=\"1\" class=\"dataframe\">\n",
       "  <thead>\n",
       "    <tr style=\"text-align: right;\">\n",
       "      <th></th>\n",
       "      <th>eid</th>\n",
       "      <th>cite</th>\n",
       "      <th>Lang</th>\n",
       "      <th>Para</th>\n",
       "      <th>Title</th>\n",
       "      <th>year</th>\n",
       "      <th>publication_name</th>\n",
       "      <th>publication_type</th>\n",
       "      <th>Author Keyword</th>\n",
       "      <th>Abbreviation</th>\n",
       "      <th>Code</th>\n",
       "      <th>Text</th>\n",
       "    </tr>\n",
       "  </thead>\n",
       "  <tbody>\n",
       "    <tr>\n",
       "      <th>3501</th>\n",
       "      <td>2-s2.0-34250199325</td>\n",
       "      <td>73</td>\n",
       "      <td>eng</td>\n",
       "      <td>Imaging mass spectrometry (IMS) allows the dir...</td>\n",
       "      <td>Imaging mass spectrometry at cellular length s...</td>\n",
       "      <td>2007</td>\n",
       "      <td>Nature Protocols</td>\n",
       "      <td>Journal</td>\n",
       "      <td>NaN</td>\n",
       "      <td>CENG</td>\n",
       "      <td>1502</td>\n",
       "      <td>Bioengineering</td>\n",
       "    </tr>\n",
       "    <tr>\n",
       "      <th>3722</th>\n",
       "      <td>2-s2.0-34248512719</td>\n",
       "      <td>342</td>\n",
       "      <td>eng</td>\n",
       "      <td>Untargeted metabolomics aims to gather informa...</td>\n",
       "      <td>Untargeted large-scale plant metabolomics usin...</td>\n",
       "      <td>2007</td>\n",
       "      <td>Nature Protocols</td>\n",
       "      <td>Journal</td>\n",
       "      <td>NaN</td>\n",
       "      <td>BIOC</td>\n",
       "      <td>1311</td>\n",
       "      <td>Genetics</td>\n",
       "    </tr>\n",
       "    <tr>\n",
       "      <th>3791</th>\n",
       "      <td>2-s2.0-34248531753</td>\n",
       "      <td>1795</td>\n",
       "      <td>eng</td>\n",
       "      <td>Determining the subcellular localization of a ...</td>\n",
       "      <td>Locating proteins in the cell using TargetP, S...</td>\n",
       "      <td>2007</td>\n",
       "      <td>Nature Protocols</td>\n",
       "      <td>Journal</td>\n",
       "      <td>NaN</td>\n",
       "      <td>ENGI</td>\n",
       "      <td>2204</td>\n",
       "      <td>Biomedical Engineering</td>\n",
       "    </tr>\n",
       "    <tr>\n",
       "      <th>23740</th>\n",
       "      <td>2-s2.0-68449101067</td>\n",
       "      <td>166</td>\n",
       "      <td>eng</td>\n",
       "      <td>Genomic experiments produce multiple views of ...</td>\n",
       "      <td>Mapping identifiers for the integration of gen...</td>\n",
       "      <td>2009</td>\n",
       "      <td>Nature Protocols</td>\n",
       "      <td>Journal</td>\n",
       "      <td>NaN</td>\n",
       "      <td>BIOC</td>\n",
       "      <td>1312</td>\n",
       "      <td>Molecular Biology</td>\n",
       "    </tr>\n",
       "    <tr>\n",
       "      <th>25282</th>\n",
       "      <td>2-s2.0-61449172037</td>\n",
       "      <td>10067</td>\n",
       "      <td>eng</td>\n",
       "      <td>DAVID bioinformatics resources consists of an ...</td>\n",
       "      <td>Systematic and integrative analysis of large g...</td>\n",
       "      <td>2009</td>\n",
       "      <td>Nature Protocols</td>\n",
       "      <td>Journal</td>\n",
       "      <td>NaN</td>\n",
       "      <td>ENGI</td>\n",
       "      <td>2204</td>\n",
       "      <td>Biomedical Engineering</td>\n",
       "    </tr>\n",
       "  </tbody>\n",
       "</table>\n",
       "</div>"
      ],
      "text/plain": [
       "                      eid   cite Lang  \\\n",
       "3501   2-s2.0-34250199325     73  eng   \n",
       "3722   2-s2.0-34248512719    342  eng   \n",
       "3791   2-s2.0-34248531753   1795  eng   \n",
       "23740  2-s2.0-68449101067    166  eng   \n",
       "25282  2-s2.0-61449172037  10067  eng   \n",
       "\n",
       "                                                    Para  \\\n",
       "3501   Imaging mass spectrometry (IMS) allows the dir...   \n",
       "3722   Untargeted metabolomics aims to gather informa...   \n",
       "3791   Determining the subcellular localization of a ...   \n",
       "23740  Genomic experiments produce multiple views of ...   \n",
       "25282  DAVID bioinformatics resources consists of an ...   \n",
       "\n",
       "                                                   Title  year  \\\n",
       "3501   Imaging mass spectrometry at cellular length s...  2007   \n",
       "3722   Untargeted large-scale plant metabolomics usin...  2007   \n",
       "3791   Locating proteins in the cell using TargetP, S...  2007   \n",
       "23740  Mapping identifiers for the integration of gen...  2009   \n",
       "25282  Systematic and integrative analysis of large g...  2009   \n",
       "\n",
       "       publication_name publication_type Author Keyword Abbreviation  Code  \\\n",
       "3501   Nature Protocols          Journal            NaN         CENG  1502   \n",
       "3722   Nature Protocols          Journal            NaN         BIOC  1311   \n",
       "3791   Nature Protocols          Journal            NaN         ENGI  2204   \n",
       "23740  Nature Protocols          Journal            NaN         BIOC  1312   \n",
       "25282  Nature Protocols          Journal            NaN         ENGI  2204   \n",
       "\n",
       "                         Text  \n",
       "3501           Bioengineering  \n",
       "3722                 Genetics  \n",
       "3791   Biomedical Engineering  \n",
       "23740       Molecular Biology  \n",
       "25282  Biomedical Engineering  "
      ]
     },
     "execution_count": 175,
     "metadata": {},
     "output_type": "execute_result"
    }
   ],
   "source": [
    "top_citation.loc[top_citation['publication_name'].isin(['Nature Protocols'])].head()"
   ]
  },
  {
   "cell_type": "code",
   "execution_count": 169,
   "metadata": {},
   "outputs": [],
   "source": [
    "# Top fields of study based on publication venu\n",
    "new_df=top_citation.groupby(['Text'])['eid'].count().reset_index()"
   ]
  },
  {
   "cell_type": "code",
   "execution_count": 170,
   "metadata": {},
   "outputs": [
    {
     "data": {
      "text/plain": [
       "['Text', 'eid']"
      ]
     },
     "execution_count": 170,
     "metadata": {},
     "output_type": "execute_result"
    }
   ],
   "source": [
    "list(new_df)"
   ]
  },
  {
   "cell_type": "code",
   "execution_count": 171,
   "metadata": {},
   "outputs": [
    {
     "data": {
      "text/html": [
       "<div>\n",
       "<style>\n",
       "    .dataframe thead tr:only-child th {\n",
       "        text-align: right;\n",
       "    }\n",
       "\n",
       "    .dataframe thead th {\n",
       "        text-align: left;\n",
       "    }\n",
       "\n",
       "    .dataframe tbody tr th {\n",
       "        vertical-align: top;\n",
       "    }\n",
       "</style>\n",
       "<table border=\"1\" class=\"dataframe\">\n",
       "  <thead>\n",
       "    <tr style=\"text-align: right;\">\n",
       "      <th></th>\n",
       "      <th>Text</th>\n",
       "      <th>eid</th>\n",
       "    </tr>\n",
       "  </thead>\n",
       "  <tbody>\n",
       "    <tr>\n",
       "      <th>0</th>\n",
       "      <td>Aging</td>\n",
       "      <td>1</td>\n",
       "    </tr>\n",
       "    <tr>\n",
       "      <th>1</th>\n",
       "      <td>Agricultural and Biological Sciences (all)</td>\n",
       "      <td>4</td>\n",
       "    </tr>\n",
       "    <tr>\n",
       "      <th>2</th>\n",
       "      <td>Agricultural and Biological Sciences (miscella...</td>\n",
       "      <td>1</td>\n",
       "    </tr>\n",
       "    <tr>\n",
       "      <th>3</th>\n",
       "      <td>Anatomy</td>\n",
       "      <td>1</td>\n",
       "    </tr>\n",
       "    <tr>\n",
       "      <th>4</th>\n",
       "      <td>Applied Mathematics</td>\n",
       "      <td>2</td>\n",
       "    </tr>\n",
       "  </tbody>\n",
       "</table>\n",
       "</div>"
      ],
      "text/plain": [
       "                                                Text  eid\n",
       "0                                              Aging    1\n",
       "1         Agricultural and Biological Sciences (all)    4\n",
       "2  Agricultural and Biological Sciences (miscella...    1\n",
       "3                                            Anatomy    1\n",
       "4                                Applied Mathematics    2"
      ]
     },
     "execution_count": 171,
     "metadata": {},
     "output_type": "execute_result"
    }
   ],
   "source": [
    "new_df.head()"
   ]
  },
  {
   "cell_type": "code",
   "execution_count": 173,
   "metadata": {},
   "outputs": [
    {
     "data": {
      "text/html": [
       "<div>\n",
       "<style>\n",
       "    .dataframe thead tr:only-child th {\n",
       "        text-align: right;\n",
       "    }\n",
       "\n",
       "    .dataframe thead th {\n",
       "        text-align: left;\n",
       "    }\n",
       "\n",
       "    .dataframe tbody tr th {\n",
       "        vertical-align: top;\n",
       "    }\n",
       "</style>\n",
       "<table border=\"1\" class=\"dataframe\">\n",
       "  <thead>\n",
       "    <tr style=\"text-align: right;\">\n",
       "      <th></th>\n",
       "      <th>Text</th>\n",
       "      <th>eid</th>\n",
       "    </tr>\n",
       "  </thead>\n",
       "  <tbody>\n",
       "    <tr>\n",
       "      <th>10</th>\n",
       "      <td>Biomedical Engineering</td>\n",
       "      <td>10</td>\n",
       "    </tr>\n",
       "    <tr>\n",
       "      <th>30</th>\n",
       "      <td>Medicine (all)</td>\n",
       "      <td>7</td>\n",
       "    </tr>\n",
       "    <tr>\n",
       "      <th>8</th>\n",
       "      <td>Biochemistry, Genetics and Molecular Biology (...</td>\n",
       "      <td>7</td>\n",
       "    </tr>\n",
       "    <tr>\n",
       "      <th>7</th>\n",
       "      <td>Biochemistry</td>\n",
       "      <td>7</td>\n",
       "    </tr>\n",
       "    <tr>\n",
       "      <th>47</th>\n",
       "      <td>Software</td>\n",
       "      <td>6</td>\n",
       "    </tr>\n",
       "  </tbody>\n",
       "</table>\n",
       "</div>"
      ],
      "text/plain": [
       "                                                 Text  eid\n",
       "10                             Biomedical Engineering   10\n",
       "30                                     Medicine (all)    7\n",
       "8   Biochemistry, Genetics and Molecular Biology (...    7\n",
       "7                                        Biochemistry    7\n",
       "47                                           Software    6"
      ]
     },
     "execution_count": 173,
     "metadata": {},
     "output_type": "execute_result"
    }
   ],
   "source": [
    "new_df.sort_values(by='eid', ascending=False).head()"
   ]
  },
  {
   "cell_type": "code",
   "execution_count": 185,
   "metadata": {},
   "outputs": [],
   "source": [
    "cit=top_citation.groupby(['Text'])['cite'].sum().reset_index()"
   ]
  },
  {
   "cell_type": "code",
   "execution_count": 186,
   "metadata": {},
   "outputs": [
    {
     "data": {
      "text/html": [
       "<div>\n",
       "<style>\n",
       "    .dataframe thead tr:only-child th {\n",
       "        text-align: right;\n",
       "    }\n",
       "\n",
       "    .dataframe thead th {\n",
       "        text-align: left;\n",
       "    }\n",
       "\n",
       "    .dataframe tbody tr th {\n",
       "        vertical-align: top;\n",
       "    }\n",
       "</style>\n",
       "<table border=\"1\" class=\"dataframe\">\n",
       "  <thead>\n",
       "    <tr style=\"text-align: right;\">\n",
       "      <th></th>\n",
       "      <th>Text</th>\n",
       "      <th>cite</th>\n",
       "    </tr>\n",
       "  </thead>\n",
       "  <tbody>\n",
       "    <tr>\n",
       "      <th>34</th>\n",
       "      <td>Molecular Biology</td>\n",
       "      <td>23862</td>\n",
       "    </tr>\n",
       "    <tr>\n",
       "      <th>10</th>\n",
       "      <td>Biomedical Engineering</td>\n",
       "      <td>12070</td>\n",
       "    </tr>\n",
       "    <tr>\n",
       "      <th>1</th>\n",
       "      <td>Agricultural and Biological Sciences (all)</td>\n",
       "      <td>6891</td>\n",
       "    </tr>\n",
       "    <tr>\n",
       "      <th>7</th>\n",
       "      <td>Biochemistry</td>\n",
       "      <td>5039</td>\n",
       "    </tr>\n",
       "    <tr>\n",
       "      <th>17</th>\n",
       "      <td>Computer Science Applications</td>\n",
       "      <td>3872</td>\n",
       "    </tr>\n",
       "  </tbody>\n",
       "</table>\n",
       "</div>"
      ],
      "text/plain": [
       "                                          Text   cite\n",
       "34                           Molecular Biology  23862\n",
       "10                      Biomedical Engineering  12070\n",
       "1   Agricultural and Biological Sciences (all)   6891\n",
       "7                                 Biochemistry   5039\n",
       "17               Computer Science Applications   3872"
      ]
     },
     "execution_count": 186,
     "metadata": {},
     "output_type": "execute_result"
    }
   ],
   "source": [
    "cit.sort_values(by='cite', ascending=False).head()"
   ]
  },
  {
   "cell_type": "code",
   "execution_count": 176,
   "metadata": {},
   "outputs": [
    {
     "data": {
      "text/html": [
       "<div>\n",
       "<style>\n",
       "    .dataframe thead tr:only-child th {\n",
       "        text-align: right;\n",
       "    }\n",
       "\n",
       "    .dataframe thead th {\n",
       "        text-align: left;\n",
       "    }\n",
       "\n",
       "    .dataframe tbody tr th {\n",
       "        vertical-align: top;\n",
       "    }\n",
       "</style>\n",
       "<table border=\"1\" class=\"dataframe\">\n",
       "  <thead>\n",
       "    <tr style=\"text-align: right;\">\n",
       "      <th></th>\n",
       "      <th>Abbreviation</th>\n",
       "      <th>eid</th>\n",
       "    </tr>\n",
       "  </thead>\n",
       "  <tbody>\n",
       "    <tr>\n",
       "      <th>0</th>\n",
       "      <td>AGRI</td>\n",
       "      <td>12</td>\n",
       "    </tr>\n",
       "    <tr>\n",
       "      <th>1</th>\n",
       "      <td>BIOC</td>\n",
       "      <td>36</td>\n",
       "    </tr>\n",
       "    <tr>\n",
       "      <th>2</th>\n",
       "      <td>CENG</td>\n",
       "      <td>4</td>\n",
       "    </tr>\n",
       "    <tr>\n",
       "      <th>3</th>\n",
       "      <td>CHEM</td>\n",
       "      <td>6</td>\n",
       "    </tr>\n",
       "    <tr>\n",
       "      <th>4</th>\n",
       "      <td>COMP</td>\n",
       "      <td>23</td>\n",
       "    </tr>\n",
       "    <tr>\n",
       "      <th>5</th>\n",
       "      <td>ENGI</td>\n",
       "      <td>13</td>\n",
       "    </tr>\n",
       "    <tr>\n",
       "      <th>6</th>\n",
       "      <td>ENVI</td>\n",
       "      <td>1</td>\n",
       "    </tr>\n",
       "    <tr>\n",
       "      <th>7</th>\n",
       "      <td>HEAL</td>\n",
       "      <td>2</td>\n",
       "    </tr>\n",
       "    <tr>\n",
       "      <th>8</th>\n",
       "      <td>IMMU</td>\n",
       "      <td>2</td>\n",
       "    </tr>\n",
       "    <tr>\n",
       "      <th>9</th>\n",
       "      <td>MATE</td>\n",
       "      <td>1</td>\n",
       "    </tr>\n",
       "    <tr>\n",
       "      <th>10</th>\n",
       "      <td>MATH</td>\n",
       "      <td>13</td>\n",
       "    </tr>\n",
       "    <tr>\n",
       "      <th>11</th>\n",
       "      <td>MEDI</td>\n",
       "      <td>19</td>\n",
       "    </tr>\n",
       "    <tr>\n",
       "      <th>12</th>\n",
       "      <td>MULT</td>\n",
       "      <td>1</td>\n",
       "    </tr>\n",
       "    <tr>\n",
       "      <th>13</th>\n",
       "      <td>NEUR</td>\n",
       "      <td>4</td>\n",
       "    </tr>\n",
       "    <tr>\n",
       "      <th>14</th>\n",
       "      <td>PHAR</td>\n",
       "      <td>2</td>\n",
       "    </tr>\n",
       "  </tbody>\n",
       "</table>\n",
       "</div>"
      ],
      "text/plain": [
       "   Abbreviation  eid\n",
       "0          AGRI   12\n",
       "1          BIOC   36\n",
       "2          CENG    4\n",
       "3          CHEM    6\n",
       "4          COMP   23\n",
       "5          ENGI   13\n",
       "6          ENVI    1\n",
       "7          HEAL    2\n",
       "8          IMMU    2\n",
       "9          MATE    1\n",
       "10         MATH   13\n",
       "11         MEDI   19\n",
       "12         MULT    1\n",
       "13         NEUR    4\n",
       "14         PHAR    2"
      ]
     },
     "execution_count": 176,
     "metadata": {},
     "output_type": "execute_result"
    }
   ],
   "source": [
    "top_citation.groupby(['Abbreviation'])['eid'].count().reset_index()"
   ]
  },
  {
   "cell_type": "code",
   "execution_count": 163,
   "metadata": {},
   "outputs": [
    {
     "data": {
      "text/plain": [
       "54"
      ]
     },
     "execution_count": 163,
     "metadata": {},
     "output_type": "execute_result"
    }
   ],
   "source": [
    "top_citation['Text'].nunique()"
   ]
  },
  {
   "cell_type": "code",
   "execution_count": 161,
   "metadata": {},
   "outputs": [
    {
     "data": {
      "text/plain": [
       "299"
      ]
     },
     "execution_count": 161,
     "metadata": {},
     "output_type": "execute_result"
    }
   ],
   "source": [
    "publication['Text'].nunique()"
   ]
  },
  {
   "cell_type": "markdown",
   "metadata": {},
   "source": [
    "Year and Citation ratios"
   ]
  },
  {
   "cell_type": "code",
   "execution_count": 59,
   "metadata": {
    "collapsed": true
   },
   "outputs": [],
   "source": [
    "\n",
    "x=publication.groupby('year')['cite'].agg(['sum','count','mean']).reset_index()"
   ]
  },
  {
   "cell_type": "code",
   "execution_count": 60,
   "metadata": {},
   "outputs": [
    {
     "data": {
      "text/html": [
       "<div>\n",
       "<style>\n",
       "    .dataframe thead tr:only-child th {\n",
       "        text-align: right;\n",
       "    }\n",
       "\n",
       "    .dataframe thead th {\n",
       "        text-align: left;\n",
       "    }\n",
       "\n",
       "    .dataframe tbody tr th {\n",
       "        vertical-align: top;\n",
       "    }\n",
       "</style>\n",
       "<table border=\"1\" class=\"dataframe\">\n",
       "  <thead>\n",
       "    <tr style=\"text-align: right;\">\n",
       "      <th></th>\n",
       "      <th>year</th>\n",
       "      <th>sum</th>\n",
       "      <th>count</th>\n",
       "      <th>mean</th>\n",
       "    </tr>\n",
       "  </thead>\n",
       "  <tbody>\n",
       "    <tr>\n",
       "      <th>0</th>\n",
       "      <td>1986</td>\n",
       "      <td>0</td>\n",
       "      <td>1</td>\n",
       "      <td>0.000000</td>\n",
       "    </tr>\n",
       "    <tr>\n",
       "      <th>1</th>\n",
       "      <td>1987</td>\n",
       "      <td>0</td>\n",
       "      <td>2</td>\n",
       "      <td>0.000000</td>\n",
       "    </tr>\n",
       "    <tr>\n",
       "      <th>2</th>\n",
       "      <td>1989</td>\n",
       "      <td>1</td>\n",
       "      <td>1</td>\n",
       "      <td>1.000000</td>\n",
       "    </tr>\n",
       "    <tr>\n",
       "      <th>3</th>\n",
       "      <td>1990</td>\n",
       "      <td>59</td>\n",
       "      <td>4</td>\n",
       "      <td>14.750000</td>\n",
       "    </tr>\n",
       "    <tr>\n",
       "      <th>4</th>\n",
       "      <td>1993</td>\n",
       "      <td>336</td>\n",
       "      <td>7</td>\n",
       "      <td>48.000000</td>\n",
       "    </tr>\n",
       "    <tr>\n",
       "      <th>5</th>\n",
       "      <td>1994</td>\n",
       "      <td>153</td>\n",
       "      <td>16</td>\n",
       "      <td>9.562500</td>\n",
       "    </tr>\n",
       "    <tr>\n",
       "      <th>6</th>\n",
       "      <td>1995</td>\n",
       "      <td>569</td>\n",
       "      <td>28</td>\n",
       "      <td>20.321429</td>\n",
       "    </tr>\n",
       "    <tr>\n",
       "      <th>7</th>\n",
       "      <td>1996</td>\n",
       "      <td>576</td>\n",
       "      <td>51</td>\n",
       "      <td>11.294118</td>\n",
       "    </tr>\n",
       "    <tr>\n",
       "      <th>8</th>\n",
       "      <td>1997</td>\n",
       "      <td>2034</td>\n",
       "      <td>117</td>\n",
       "      <td>17.384615</td>\n",
       "    </tr>\n",
       "    <tr>\n",
       "      <th>9</th>\n",
       "      <td>1998</td>\n",
       "      <td>5082</td>\n",
       "      <td>138</td>\n",
       "      <td>36.826087</td>\n",
       "    </tr>\n",
       "    <tr>\n",
       "      <th>10</th>\n",
       "      <td>1999</td>\n",
       "      <td>13184</td>\n",
       "      <td>187</td>\n",
       "      <td>70.502674</td>\n",
       "    </tr>\n",
       "    <tr>\n",
       "      <th>11</th>\n",
       "      <td>2000</td>\n",
       "      <td>19107</td>\n",
       "      <td>391</td>\n",
       "      <td>48.867008</td>\n",
       "    </tr>\n",
       "    <tr>\n",
       "      <th>12</th>\n",
       "      <td>2001</td>\n",
       "      <td>24617</td>\n",
       "      <td>620</td>\n",
       "      <td>39.704839</td>\n",
       "    </tr>\n",
       "    <tr>\n",
       "      <th>13</th>\n",
       "      <td>2002</td>\n",
       "      <td>46004</td>\n",
       "      <td>1340</td>\n",
       "      <td>34.331343</td>\n",
       "    </tr>\n",
       "    <tr>\n",
       "      <th>14</th>\n",
       "      <td>2003</td>\n",
       "      <td>78069</td>\n",
       "      <td>2007</td>\n",
       "      <td>38.898356</td>\n",
       "    </tr>\n",
       "    <tr>\n",
       "      <th>15</th>\n",
       "      <td>2004</td>\n",
       "      <td>86911</td>\n",
       "      <td>2312</td>\n",
       "      <td>37.591263</td>\n",
       "    </tr>\n",
       "    <tr>\n",
       "      <th>16</th>\n",
       "      <td>2005</td>\n",
       "      <td>108219</td>\n",
       "      <td>3137</td>\n",
       "      <td>34.497609</td>\n",
       "    </tr>\n",
       "    <tr>\n",
       "      <th>17</th>\n",
       "      <td>2006</td>\n",
       "      <td>105228</td>\n",
       "      <td>3651</td>\n",
       "      <td>28.821693</td>\n",
       "    </tr>\n",
       "    <tr>\n",
       "      <th>18</th>\n",
       "      <td>2007</td>\n",
       "      <td>133039</td>\n",
       "      <td>4634</td>\n",
       "      <td>28.709322</td>\n",
       "    </tr>\n",
       "    <tr>\n",
       "      <th>19</th>\n",
       "      <td>2008</td>\n",
       "      <td>116494</td>\n",
       "      <td>6013</td>\n",
       "      <td>19.373690</td>\n",
       "    </tr>\n",
       "    <tr>\n",
       "      <th>20</th>\n",
       "      <td>2009</td>\n",
       "      <td>144511</td>\n",
       "      <td>7409</td>\n",
       "      <td>19.504791</td>\n",
       "    </tr>\n",
       "    <tr>\n",
       "      <th>21</th>\n",
       "      <td>2010</td>\n",
       "      <td>108772</td>\n",
       "      <td>8210</td>\n",
       "      <td>13.248721</td>\n",
       "    </tr>\n",
       "    <tr>\n",
       "      <th>22</th>\n",
       "      <td>2011</td>\n",
       "      <td>104884</td>\n",
       "      <td>7128</td>\n",
       "      <td>14.714366</td>\n",
       "    </tr>\n",
       "    <tr>\n",
       "      <th>23</th>\n",
       "      <td>2012</td>\n",
       "      <td>81023</td>\n",
       "      <td>6503</td>\n",
       "      <td>12.459326</td>\n",
       "    </tr>\n",
       "    <tr>\n",
       "      <th>24</th>\n",
       "      <td>2013</td>\n",
       "      <td>62555</td>\n",
       "      <td>6644</td>\n",
       "      <td>9.415262</td>\n",
       "    </tr>\n",
       "    <tr>\n",
       "      <th>25</th>\n",
       "      <td>2014</td>\n",
       "      <td>51775</td>\n",
       "      <td>8328</td>\n",
       "      <td>6.216979</td>\n",
       "    </tr>\n",
       "    <tr>\n",
       "      <th>26</th>\n",
       "      <td>2015</td>\n",
       "      <td>27949</td>\n",
       "      <td>8923</td>\n",
       "      <td>3.132243</td>\n",
       "    </tr>\n",
       "    <tr>\n",
       "      <th>27</th>\n",
       "      <td>2016</td>\n",
       "      <td>4964</td>\n",
       "      <td>6869</td>\n",
       "      <td>0.722667</td>\n",
       "    </tr>\n",
       "    <tr>\n",
       "      <th>28</th>\n",
       "      <td>2017</td>\n",
       "      <td>17</td>\n",
       "      <td>402</td>\n",
       "      <td>0.042289</td>\n",
       "    </tr>\n",
       "  </tbody>\n",
       "</table>\n",
       "</div>"
      ],
      "text/plain": [
       "    year     sum  count       mean\n",
       "0   1986       0      1   0.000000\n",
       "1   1987       0      2   0.000000\n",
       "2   1989       1      1   1.000000\n",
       "3   1990      59      4  14.750000\n",
       "4   1993     336      7  48.000000\n",
       "5   1994     153     16   9.562500\n",
       "6   1995     569     28  20.321429\n",
       "7   1996     576     51  11.294118\n",
       "8   1997    2034    117  17.384615\n",
       "9   1998    5082    138  36.826087\n",
       "10  1999   13184    187  70.502674\n",
       "11  2000   19107    391  48.867008\n",
       "12  2001   24617    620  39.704839\n",
       "13  2002   46004   1340  34.331343\n",
       "14  2003   78069   2007  38.898356\n",
       "15  2004   86911   2312  37.591263\n",
       "16  2005  108219   3137  34.497609\n",
       "17  2006  105228   3651  28.821693\n",
       "18  2007  133039   4634  28.709322\n",
       "19  2008  116494   6013  19.373690\n",
       "20  2009  144511   7409  19.504791\n",
       "21  2010  108772   8210  13.248721\n",
       "22  2011  104884   7128  14.714366\n",
       "23  2012   81023   6503  12.459326\n",
       "24  2013   62555   6644   9.415262\n",
       "25  2014   51775   8328   6.216979\n",
       "26  2015   27949   8923   3.132243\n",
       "27  2016    4964   6869   0.722667\n",
       "28  2017      17    402   0.042289"
      ]
     },
     "execution_count": 60,
     "metadata": {},
     "output_type": "execute_result"
    }
   ],
   "source": [
    "x"
   ]
  },
  {
   "cell_type": "code",
   "execution_count": 61,
   "metadata": {},
   "outputs": [
    {
     "data": {
      "text/plain": [
       "<matplotlib.axes._subplots.AxesSubplot at 0x1f2d9b52f60>"
      ]
     },
     "execution_count": 61,
     "metadata": {},
     "output_type": "execute_result"
    }
   ],
   "source": [
    "x.plot.line()"
   ]
  },
  {
   "cell_type": "code",
   "execution_count": 62,
   "metadata": {},
   "outputs": [
    {
     "data": {
      "image/png": "[encoded data removed]",
      "text/plain": [
       "<matplotlib.figure.Figure at 0x1f2d9bb3c88>"
      ]
     },
     "metadata": {},
     "output_type": "display_data"
    }
   ],
   "source": [
    "plt.show()"
   ]
  },
  {
   "cell_type": "code",
   "execution_count": 60,
   "metadata": {
    "collapsed": true
   },
   "outputs": [],
   "source": [
    "y=x.drop(['sum'],axis=1)"
   ]
  },
  {
   "cell_type": "code",
   "execution_count": 67,
   "metadata": {},
   "outputs": [
    {
     "data": {
      "text/plain": [
       "<matplotlib.axes._subplots.AxesSubplot at 0x1f2d9a9fbe0>"
      ]
     },
     "execution_count": 67,
     "metadata": {},
     "output_type": "execute_result"
    }
   ],
   "source": [
    "x.plot.line(x='count', y='mean')"
   ]
  },
  {
   "cell_type": "code",
   "execution_count": 69,
   "metadata": {
    "collapsed": true
   },
   "outputs": [],
   "source": [
    "plt.show()"
   ]
  },
  {
   "cell_type": "code",
   "execution_count": 75,
   "metadata": {},
   "outputs": [
    {
     "data": {
      "text/plain": [
       "<matplotlib.axes._subplots.AxesSubplot at 0x1f2d998d940>"
      ]
     },
     "execution_count": 75,
     "metadata": {},
     "output_type": "execute_result"
    }
   ],
   "source": [
    "x.plot(kind='line',x='year',y='count')"
   ]
  },
  {
   "cell_type": "code",
   "execution_count": 76,
   "metadata": {},
   "outputs": [
    {
     "data": {
      "image/png": "[encoded data removed]",
      "text/plain": [
       "<matplotlib.figure.Figure at 0x1f2d9994198>"
      ]
     },
     "metadata": {},
     "output_type": "display_data"
    }
   ],
   "source": [
    "plt.legend([\"No. of papers published\"])\n",
    "plt.show()"
   ]
  },
  {
   "cell_type": "code",
   "execution_count": 87,
   "metadata": {},
   "outputs": [
    {
     "data": {
      "text/plain": [
       "<matplotlib.axes._subplots.AxesSubplot at 0x1f2dadf39e8>"
      ]
     },
     "execution_count": 87,
     "metadata": {},
     "output_type": "execute_result"
    }
   ],
   "source": [
    "x.plot(kind='line',x='year',y='mean')"
   ]
  },
  {
   "cell_type": "code",
   "execution_count": 88,
   "metadata": {},
   "outputs": [
    {
     "data": {
      "image/png": "[encoded data removed]",
      "text/plain": [
       "<matplotlib.figure.Figure at 0x1f2dae3a908>"
      ]
     },
     "metadata": {},
     "output_type": "display_data"
    }
   ],
   "source": [
    "plt.show()"
   ]
  },
  {
   "cell_type": "code",
   "execution_count": 85,
   "metadata": {},
   "outputs": [
    {
     "data": {
      "text/plain": [
       "<matplotlib.axes._subplots.AxesSubplot at 0x1f2dae2fd68>"
      ]
     },
     "execution_count": 85,
     "metadata": {},
     "output_type": "execute_result"
    }
   ],
   "source": [
    "x.plot(kind='line',x='year',y='sum')"
   ]
  },
  {
   "cell_type": "code",
   "execution_count": 86,
   "metadata": {},
   "outputs": [
    {
     "data": {
      "image/png": "[encoded data removed]",
      "text/plain": [
       "<matplotlib.figure.Figure at 0x1f2daea56d8>"
      ]
     },
     "metadata": {},
     "output_type": "display_data"
    }
   ],
   "source": [
    "plt.legend([\"Total number of citations\"])\n",
    "plt.show()"
   ]
  },
  {
   "cell_type": "code",
   "execution_count": 82,
   "metadata": {},
   "outputs": [
    {
     "data": {
      "text/html": [
       "<div>\n",
       "<style>\n",
       "    .dataframe thead tr:only-child th {\n",
       "        text-align: right;\n",
       "    }\n",
       "\n",
       "    .dataframe thead th {\n",
       "        text-align: left;\n",
       "    }\n",
       "\n",
       "    .dataframe tbody tr th {\n",
       "        vertical-align: top;\n",
       "    }\n",
       "</style>\n",
       "<table border=\"1\" class=\"dataframe\">\n",
       "  <thead>\n",
       "    <tr style=\"text-align: right;\">\n",
       "      <th></th>\n",
       "      <th>count</th>\n",
       "      <th>sum</th>\n",
       "    </tr>\n",
       "  </thead>\n",
       "  <tbody>\n",
       "    <tr>\n",
       "      <th>count</th>\n",
       "      <td>1.000000</td>\n",
       "      <td>0.657397</td>\n",
       "    </tr>\n",
       "    <tr>\n",
       "      <th>sum</th>\n",
       "      <td>0.657397</td>\n",
       "      <td>1.000000</td>\n",
       "    </tr>\n",
       "  </tbody>\n",
       "</table>\n",
       "</div>"
      ],
      "text/plain": [
       "          count       sum\n",
       "count  1.000000  0.657397\n",
       "sum    0.657397  1.000000"
      ]
     },
     "execution_count": 82,
     "metadata": {},
     "output_type": "execute_result"
    }
   ],
   "source": [
    "x[['count','sum']].corr()"
   ]
  },
  {
   "cell_type": "code",
   "execution_count": 83,
   "metadata": {},
   "outputs": [
    {
     "data": {
      "text/html": [
       "<div>\n",
       "<style>\n",
       "    .dataframe thead tr:only-child th {\n",
       "        text-align: right;\n",
       "    }\n",
       "\n",
       "    .dataframe thead th {\n",
       "        text-align: left;\n",
       "    }\n",
       "\n",
       "    .dataframe tbody tr th {\n",
       "        vertical-align: top;\n",
       "    }\n",
       "</style>\n",
       "<table border=\"1\" class=\"dataframe\">\n",
       "  <thead>\n",
       "    <tr style=\"text-align: right;\">\n",
       "      <th></th>\n",
       "      <th>count</th>\n",
       "      <th>mean</th>\n",
       "    </tr>\n",
       "  </thead>\n",
       "  <tbody>\n",
       "    <tr>\n",
       "      <th>count</th>\n",
       "      <td>1.000000</td>\n",
       "      <td>-0.302092</td>\n",
       "    </tr>\n",
       "    <tr>\n",
       "      <th>mean</th>\n",
       "      <td>-0.302092</td>\n",
       "      <td>1.000000</td>\n",
       "    </tr>\n",
       "  </tbody>\n",
       "</table>\n",
       "</div>"
      ],
      "text/plain": [
       "          count      mean\n",
       "count  1.000000 -0.302092\n",
       "mean  -0.302092  1.000000"
      ]
     },
     "execution_count": 83,
     "metadata": {},
     "output_type": "execute_result"
    }
   ],
   "source": [
    "x[['count','mean']].corr()"
   ]
  },
  {
   "cell_type": "code",
   "execution_count": 140,
   "metadata": {},
   "outputs": [],
   "source": [
    "z=x[13:26]"
   ]
  },
  {
   "cell_type": "code",
   "execution_count": 188,
   "metadata": {},
   "outputs": [
    {
     "data": {
      "text/plain": [
       "<matplotlib.axes._subplots.AxesSubplot at 0x1f2dc2f65f8>"
      ]
     },
     "execution_count": 188,
     "metadata": {},
     "output_type": "execute_result"
    }
   ],
   "source": [
    "z.plot(kind='line',x='year',y='mean')"
   ]
  },
  {
   "cell_type": "code",
   "execution_count": 189,
   "metadata": {},
   "outputs": [
    {
     "data": {
      "image/png": "[encoded data removed]",
      "text/plain": [
       "<matplotlib.figure.Figure at 0x1f2d79182b0>"
      ]
     },
     "metadata": {},
     "output_type": "display_data"
    }
   ],
   "source": [
    "plt.legend([\"Mean Citation\"])\n",
    "plt.show()"
   ]
  },
  {
   "cell_type": "code",
   "execution_count": null,
   "metadata": {
    "collapsed": true
   },
   "outputs": [],
   "source": []
  }
 ],
 "metadata": {
  "kernelspec": {
   "display_name": "Python 3",
   "language": "python",
   "name": "python3"
  },
  "language_info": {
   "codemirror_mode": {
    "name": "ipython",
    "version": 3
   },
   "file_extension": ".py",
   "mimetype": "text/x-python",
   "name": "python",
   "nbconvert_exporter": "python",
   "pygments_lexer": "ipython3",
   "version": "3.6.3"
  }
 },
 "nbformat": 4,
 "nbformat_minor": 2
}
