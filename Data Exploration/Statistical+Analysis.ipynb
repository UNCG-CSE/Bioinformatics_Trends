{
 "cells": [
  {
   "cell_type": "code",
   "execution_count": 1,
   "metadata": {
    "collapsed": true
   },
   "outputs": [],
   "source": [
    "import pandas as pd\n"
   ]
  },
  {
   "cell_type": "code",
   "execution_count": 2,
   "metadata": {},
   "outputs": [
    {
     "data": {
      "text/plain": [
       "(7342, 4)"
      ]
     },
     "execution_count": 2,
     "metadata": {},
     "output_type": "execute_result"
    }
   ],
   "source": [
    "df = pd.read_csv(r'C:\\Users\\Mouna\\Desktop\\Fall2018\\DataScience\\Project\\Excel for publications\\2016-2017.csv',encoding='cp1252', dtype='str', error_bad_lines=False)\n",
    "df.shape"
   ]
  },
  {
   "cell_type": "code",
   "execution_count": 4,
   "metadata": {},
   "outputs": [
    {
     "data": {
      "text/plain": [
       "(17200, 4)"
      ]
     },
     "execution_count": 4,
     "metadata": {},
     "output_type": "execute_result"
    }
   ],
   "source": [
    "df1 = pd.read_csv(r'C:\\Users\\Mouna\\Desktop\\Fall2018\\DataScience\\Project\\Excel for publications\\2014-2015.csv',encoding='cp1252', dtype='str', error_bad_lines=False)\n",
    "df1.shape"
   ]
  },
  {
   "cell_type": "code",
   "execution_count": 5,
   "metadata": {},
   "outputs": [
    {
     "data": {
      "text/plain": [
       "(13148, 4)"
      ]
     },
     "execution_count": 5,
     "metadata": {},
     "output_type": "execute_result"
    }
   ],
   "source": [
    "df2 = pd.read_csv(r'C:\\Users\\Mouna\\Desktop\\Fall2018\\DataScience\\Project\\Excel for publications\\2012-2013.csv',encoding='cp1252', dtype='str', error_bad_lines=False)\n",
    "df2.shape"
   ]
  },
  {
   "cell_type": "code",
   "execution_count": 6,
   "metadata": {},
   "outputs": [
    {
     "data": {
      "text/plain": [
       "(15247, 4)"
      ]
     },
     "execution_count": 6,
     "metadata": {},
     "output_type": "execute_result"
    }
   ],
   "source": [
    "df3 = pd.read_csv(r'C:\\Users\\Mouna\\Desktop\\Fall2018\\DataScience\\Project\\Excel for publications\\2010-2011.csv',encoding='cp1252', dtype='str', error_bad_lines=False)\n",
    "df3.shape"
   ]
  },
  {
   "cell_type": "code",
   "execution_count": 7,
   "metadata": {},
   "outputs": [
    {
     "data": {
      "text/plain": [
       "(13523, 4)"
      ]
     },
     "execution_count": 7,
     "metadata": {},
     "output_type": "execute_result"
    }
   ],
   "source": [
    "df4 = pd.read_csv(r'C:\\Users\\Mouna\\Desktop\\Fall2018\\DataScience\\Project\\Excel for publications\\2008-2009.csv',encoding='cp1252', dtype='str', error_bad_lines=False)\n",
    "df4.shape"
   ]
  },
  {
   "cell_type": "code",
   "execution_count": 8,
   "metadata": {},
   "outputs": [
    {
     "data": {
      "text/plain": [
       "(18646, 4)"
      ]
     },
     "execution_count": 8,
     "metadata": {},
     "output_type": "execute_result"
    }
   ],
   "source": [
    "df5 = pd.read_csv(r'C:\\Users\\Mouna\\Desktop\\Fall2018\\DataScience\\Project\\Excel for publications\\1986-2007.csv',encoding='cp1252', dtype='str', error_bad_lines=False)\n",
    "df5.shape"
   ]
  },
  {
   "cell_type": "code",
   "execution_count": 9,
   "metadata": {
    "collapsed": true
   },
   "outputs": [],
   "source": [
    "frames = [df,df1,df2,df3,df4,df5]"
   ]
  },
  {
   "cell_type": "code",
   "execution_count": 10,
   "metadata": {
    "collapsed": true
   },
   "outputs": [],
   "source": [
    "publications = pd.concat(frames)"
   ]
  },
  {
   "cell_type": "code",
   "execution_count": 11,
   "metadata": {},
   "outputs": [
    {
     "data": {
      "text/plain": [
       "(85106, 4)"
      ]
     },
     "execution_count": 11,
     "metadata": {},
     "output_type": "execute_result"
    }
   ],
   "source": [
    "publications.shape"
   ]
  },
  {
   "cell_type": "code",
   "execution_count": 3,
   "metadata": {},
   "outputs": [
    {
     "ename": "NameError",
     "evalue": "name 'publications' is not defined",
     "output_type": "error",
     "traceback": [
      "\u001b[1;31m---------------------------------------------------------------------------\u001b[0m",
      "\u001b[1;31mNameError\u001b[0m                                 Traceback (most recent call last)",
      "\u001b[1;32m<ipython-input-3-4d0a9f4ae45e>\u001b[0m in \u001b[0;36m<module>\u001b[1;34m()\u001b[0m\n\u001b[1;32m----> 1\u001b[1;33m \u001b[0mpublications\u001b[0m\u001b[1;33m.\u001b[0m\u001b[0mto_csv\u001b[0m\u001b[1;33m(\u001b[0m\u001b[1;34mr'C:\\Users\\Mouna\\Desktop\\Fall2018\\DataScience\\Project\\Excel for publications\\publications.csv'\u001b[0m\u001b[1;33m,\u001b[0m \u001b[0mindex\u001b[0m\u001b[1;33m=\u001b[0m\u001b[1;32mFalse\u001b[0m\u001b[1;33m)\u001b[0m\u001b[1;33m\u001b[0m\u001b[0m\n\u001b[0m",
      "\u001b[1;31mNameError\u001b[0m: name 'publications' is not defined"
     ]
    }
   ],
   "source": [
    "publications.to_csv(r'C:\\Users\\Mouna\\Desktop\\Fall2018\\DataScience\\Project\\Excel for publications\\publications.csv', index=False)"
   ]
  },
  {
   "cell_type": "code",
   "execution_count": 4,
   "metadata": {},
   "outputs": [
    {
     "data": {
      "text/plain": [
       "(85106, 4)"
      ]
     },
     "execution_count": 4,
     "metadata": {},
     "output_type": "execute_result"
    }
   ],
   "source": [
    "publication_data = pd.read_csv(r'C:\\Users\\Mouna\\Desktop\\Fall2018\\DataScience\\Project\\Excel for publications\\publications.csv',encoding='cp1252', dtype='str', error_bad_lines=False)\n",
    "publication_data.shape"
   ]
  },
  {
   "cell_type": "code",
   "execution_count": 7,
   "metadata": {},
   "outputs": [],
   "source": [
    "publication_data=publication_data['publication_type'].value_counts()"
   ]
  },
  {
   "cell_type": "code",
   "execution_count": 15,
   "metadata": {},
   "outputs": [
    {
     "data": {
      "text/plain": [
       "[5992, 720, 582, 37, 8]"
      ]
     },
     "execution_count": 15,
     "metadata": {},
     "output_type": "execute_result"
    }
   ],
   "source": [
    "list(df)"
   ]
  },
  {
   "cell_type": "code",
   "execution_count": 8,
   "metadata": {},
   "outputs": [
    {
     "data": {
      "image/png": "[encoded data removed]",
      "text/plain": [
       "<matplotlib.figure.Figure at 0x2139a1a58d0>"
      ]
     },
     "metadata": {},
     "output_type": "display_data"
    }
   ],
   "source": [
    "import matplotlib.pyplot as plt\n",
    "ax = publication_data.plot(kind='bar', title =\"Publication types\", figsize=(15, 10), legend=True, fontsize=12)\n",
    "ax.set_xlabel(\"Type\", fontsize=12)\n",
    "ax.set_ylabel(\"Count\", fontsize=12)\n",
    "plt.show()"
   ]
  },
  {
   "cell_type": "code",
   "execution_count": 3,
   "metadata": {
    "collapsed": true
   },
   "outputs": [],
   "source": [
    "author = pd.read_csv(r'C:\\Users\\Mouna\\Desktop\\Fall2018\\DataScience\\Project\\Excel for publications\\Other files\\authorAffil_10_11.csv',encoding='cp1252', dtype='str', error_bad_lines=False)\n"
   ]
  },
  {
   "cell_type": "code",
   "execution_count": 5,
   "metadata": {
    "collapsed": true
   },
   "outputs": [],
   "source": [
    "author.dropna(how='any', inplace=True)"
   ]
  },
  {
   "cell_type": "code",
   "execution_count": 4,
   "metadata": {
    "collapsed": true
   },
   "outputs": [],
   "source": [
    "del author['Affiliation ID']"
   ]
  },
  {
   "cell_type": "code",
   "execution_count": 6,
   "metadata": {
    "collapsed": true,
    "scrolled": true
   },
   "outputs": [],
   "source": [
    "author1=author.groupby('eid')['Author ID'].nunique().sort_values()"
   ]
  },
  {
   "cell_type": "code",
   "execution_count": 7,
   "metadata": {},
   "outputs": [
    {
     "data": {
      "text/plain": [
       "(14960,)"
      ]
     },
     "execution_count": 7,
     "metadata": {},
     "output_type": "execute_result"
    }
   ],
   "source": [
    "author1.shape"
   ]
  },
  {
   "cell_type": "code",
   "execution_count": 8,
   "metadata": {
    "collapsed": true
   },
   "outputs": [],
   "source": [
    "author1=author1.reset_index()"
   ]
  },
  {
   "cell_type": "code",
   "execution_count": 9,
   "metadata": {},
   "outputs": [
    {
     "data": {
      "text/html": [
       "<div>\n",
       "<style>\n",
       "    .dataframe thead tr:only-child th {\n",
       "        text-align: right;\n",
       "    }\n",
       "\n",
       "    .dataframe thead th {\n",
       "        text-align: left;\n",
       "    }\n",
       "\n",
       "    .dataframe tbody tr th {\n",
       "        vertical-align: top;\n",
       "    }\n",
       "</style>\n",
       "<table border=\"1\" class=\"dataframe\">\n",
       "  <thead>\n",
       "    <tr style=\"text-align: right;\">\n",
       "      <th></th>\n",
       "      <th>eid</th>\n",
       "      <th>Author ID</th>\n",
       "    </tr>\n",
       "  </thead>\n",
       "  <tbody>\n",
       "    <tr>\n",
       "      <th>0</th>\n",
       "      <td>2-s2.0-79951767091</td>\n",
       "      <td>1</td>\n",
       "    </tr>\n",
       "    <tr>\n",
       "      <th>1</th>\n",
       "      <td>2-s2.0-79960536112</td>\n",
       "      <td>1</td>\n",
       "    </tr>\n",
       "    <tr>\n",
       "      <th>2</th>\n",
       "      <td>2-s2.0-79960537397</td>\n",
       "      <td>1</td>\n",
       "    </tr>\n",
       "    <tr>\n",
       "      <th>3</th>\n",
       "      <td>2-s2.0-77954911832</td>\n",
       "      <td>1</td>\n",
       "    </tr>\n",
       "    <tr>\n",
       "      <th>4</th>\n",
       "      <td>2-s2.0-79960537822</td>\n",
       "      <td>1</td>\n",
       "    </tr>\n",
       "  </tbody>\n",
       "</table>\n",
       "</div>"
      ],
      "text/plain": [
       "                  eid  Author ID\n",
       "0  2-s2.0-79951767091          1\n",
       "1  2-s2.0-79960536112          1\n",
       "2  2-s2.0-79960537397          1\n",
       "3  2-s2.0-77954911832          1\n",
       "4  2-s2.0-79960537822          1"
      ]
     },
     "execution_count": 9,
     "metadata": {},
     "output_type": "execute_result"
    }
   ],
   "source": [
    "author1.head()"
   ]
  },
  {
   "cell_type": "code",
   "execution_count": 10,
   "metadata": {},
   "outputs": [
    {
     "data": {
      "text/plain": [
       "['eid', 'Author ID']"
      ]
     },
     "execution_count": 10,
     "metadata": {},
     "output_type": "execute_result"
    }
   ],
   "source": [
    "list(author1)"
   ]
  },
  {
   "cell_type": "code",
   "execution_count": 12,
   "metadata": {
    "collapsed": true
   },
   "outputs": [],
   "source": [
    "citation = pd.read_csv(r'C:\\Users\\Mouna\\Desktop\\Fall2018\\DataScience\\Project\\MergedData\\2010-2011_merged.csv',encoding='cp1252', dtype='str', error_bad_lines=False)\n"
   ]
  },
  {
   "cell_type": "code",
   "execution_count": null,
   "metadata": {
    "collapsed": true
   },
   "outputs": [],
   "source": []
  },
  {
   "cell_type": "code",
   "execution_count": 13,
   "metadata": {},
   "outputs": [
    {
     "data": {
      "text/plain": [
       "(15247, 12)"
      ]
     },
     "execution_count": 13,
     "metadata": {},
     "output_type": "execute_result"
    }
   ],
   "source": [
    "citation.shape"
   ]
  },
  {
   "cell_type": "code",
   "execution_count": 14,
   "metadata": {
    "collapsed": true
   },
   "outputs": [],
   "source": [
    "final= author1.merge(citation, on='eid')"
   ]
  },
  {
   "cell_type": "code",
   "execution_count": 28,
   "metadata": {},
   "outputs": [
    {
     "data": {
      "text/plain": [
       "(7139, 13)"
      ]
     },
     "execution_count": 28,
     "metadata": {},
     "output_type": "execute_result"
    }
   ],
   "source": [
    "final.shape"
   ]
  },
  {
   "cell_type": "code",
   "execution_count": 15,
   "metadata": {},
   "outputs": [
    {
     "data": {
      "text/html": [
       "<div>\n",
       "<style>\n",
       "    .dataframe thead tr:only-child th {\n",
       "        text-align: right;\n",
       "    }\n",
       "\n",
       "    .dataframe thead th {\n",
       "        text-align: left;\n",
       "    }\n",
       "\n",
       "    .dataframe tbody tr th {\n",
       "        vertical-align: top;\n",
       "    }\n",
       "</style>\n",
       "<table border=\"1\" class=\"dataframe\">\n",
       "  <thead>\n",
       "    <tr style=\"text-align: right;\">\n",
       "      <th></th>\n",
       "      <th>eid</th>\n",
       "      <th>Author ID</th>\n",
       "      <th>cite</th>\n",
       "      <th>Lang</th>\n",
       "      <th>Para</th>\n",
       "      <th>Title</th>\n",
       "      <th>year</th>\n",
       "      <th>publication_name</th>\n",
       "      <th>publication_type</th>\n",
       "      <th>Author Keyword</th>\n",
       "      <th>Abbreviation</th>\n",
       "      <th>Code</th>\n",
       "      <th>Text</th>\n",
       "    </tr>\n",
       "  </thead>\n",
       "  <tbody>\n",
       "    <tr>\n",
       "      <th>14955</th>\n",
       "      <td>2-s2.0-79953755048</td>\n",
       "      <td>69</td>\n",
       "      <td>85</td>\n",
       "      <td>eng</td>\n",
       "      <td>The origin of the epidemic of IgE-associated (...</td>\n",
       "      <td>MeDALL (Mechanisms of the Development of ALLer...</td>\n",
       "      <td>2011</td>\n",
       "      <td>Allergy: European Journal of Allergy and Clini...</td>\n",
       "      <td>Journal</td>\n",
       "      <td>['allergy', 'early diagnosis', 'epigenetics', ...</td>\n",
       "      <td>EART</td>\n",
       "      <td>1908</td>\n",
       "      <td>Geophysics</td>\n",
       "    </tr>\n",
       "    <tr>\n",
       "      <th>14956</th>\n",
       "      <td>2-s2.0-80054973816</td>\n",
       "      <td>70</td>\n",
       "      <td>0</td>\n",
       "      <td>eng</td>\n",
       "      <td>The origin of the epidemic of IgE-associated (...</td>\n",
       "      <td>MeDALL (Mechanisms of the Development of ALLer...</td>\n",
       "      <td>2011</td>\n",
       "      <td>Alergia Astma Immunologia</td>\n",
       "      <td>Journal</td>\n",
       "      <td>['Allergy', 'Early diagnosis', 'Epigenetics', ...</td>\n",
       "      <td>MEDI</td>\n",
       "      <td>2718</td>\n",
       "      <td>Health Informatics</td>\n",
       "    </tr>\n",
       "    <tr>\n",
       "      <th>14957</th>\n",
       "      <td>2-s2.0-77955373370</td>\n",
       "      <td>82</td>\n",
       "      <td>56</td>\n",
       "      <td>eng</td>\n",
       "      <td>Genotypic algorithms for prediction of HIV-1 c...</td>\n",
       "      <td>Evaluation of the genotypic prediction of HIV-...</td>\n",
       "      <td>2010</td>\n",
       "      <td>Antimicrobial Agents and Chemotherapy</td>\n",
       "      <td>Journal</td>\n",
       "      <td>NaN</td>\n",
       "      <td>BIOC</td>\n",
       "      <td>1300</td>\n",
       "      <td>Biochemistry, Genetics and Molecular Biology (...</td>\n",
       "    </tr>\n",
       "    <tr>\n",
       "      <th>14958</th>\n",
       "      <td>2-s2.0-78651319979</td>\n",
       "      <td>126</td>\n",
       "      <td>449</td>\n",
       "      <td>eng</td>\n",
       "      <td>The primary mission of Universal Protein Resou...</td>\n",
       "      <td>Ongoing and future developments at the Univers...</td>\n",
       "      <td>2011</td>\n",
       "      <td>Nucleic Acids Research</td>\n",
       "      <td>Journal</td>\n",
       "      <td>NaN</td>\n",
       "      <td>AGRI</td>\n",
       "      <td>1110</td>\n",
       "      <td>Plant Science</td>\n",
       "    </tr>\n",
       "    <tr>\n",
       "      <th>14959</th>\n",
       "      <td>2-s2.0-79958143783</td>\n",
       "      <td>143</td>\n",
       "      <td>35</td>\n",
       "      <td>eng</td>\n",
       "      <td>{'sup': ['2', '2', '-4', '-4'], '#text': 'We c...</td>\n",
       "      <td>GWA study data mining and independent replicat...</td>\n",
       "      <td>2011</td>\n",
       "      <td>Molecular Psychiatry</td>\n",
       "      <td>Journal</td>\n",
       "      <td>['association study', 'cardiomyopathy', 'GWA d...</td>\n",
       "      <td>HEAL</td>\n",
       "      <td>3605</td>\n",
       "      <td>Health Information Management</td>\n",
       "    </tr>\n",
       "  </tbody>\n",
       "</table>\n",
       "</div>"
      ],
      "text/plain": [
       "                      eid  Author ID cite Lang  \\\n",
       "14955  2-s2.0-79953755048         69   85  eng   \n",
       "14956  2-s2.0-80054973816         70    0  eng   \n",
       "14957  2-s2.0-77955373370         82   56  eng   \n",
       "14958  2-s2.0-78651319979        126  449  eng   \n",
       "14959  2-s2.0-79958143783        143   35  eng   \n",
       "\n",
       "                                                    Para  \\\n",
       "14955  The origin of the epidemic of IgE-associated (...   \n",
       "14956  The origin of the epidemic of IgE-associated (...   \n",
       "14957  Genotypic algorithms for prediction of HIV-1 c...   \n",
       "14958  The primary mission of Universal Protein Resou...   \n",
       "14959  {'sup': ['2', '2', '-4', '-4'], '#text': 'We c...   \n",
       "\n",
       "                                                   Title  year  \\\n",
       "14955  MeDALL (Mechanisms of the Development of ALLer...  2011   \n",
       "14956  MeDALL (Mechanisms of the Development of ALLer...  2011   \n",
       "14957  Evaluation of the genotypic prediction of HIV-...  2010   \n",
       "14958  Ongoing and future developments at the Univers...  2011   \n",
       "14959  GWA study data mining and independent replicat...  2011   \n",
       "\n",
       "                                        publication_name publication_type  \\\n",
       "14955  Allergy: European Journal of Allergy and Clini...          Journal   \n",
       "14956                          Alergia Astma Immunologia          Journal   \n",
       "14957              Antimicrobial Agents and Chemotherapy          Journal   \n",
       "14958                             Nucleic Acids Research          Journal   \n",
       "14959                               Molecular Psychiatry          Journal   \n",
       "\n",
       "                                          Author Keyword Abbreviation  Code  \\\n",
       "14955  ['allergy', 'early diagnosis', 'epigenetics', ...         EART  1908   \n",
       "14956  ['Allergy', 'Early diagnosis', 'Epigenetics', ...         MEDI  2718   \n",
       "14957                                                NaN         BIOC  1300   \n",
       "14958                                                NaN         AGRI  1110   \n",
       "14959  ['association study', 'cardiomyopathy', 'GWA d...         HEAL  3605   \n",
       "\n",
       "                                                    Text  \n",
       "14955                                         Geophysics  \n",
       "14956                                 Health Informatics  \n",
       "14957  Biochemistry, Genetics and Molecular Biology (...  \n",
       "14958                                      Plant Science  \n",
       "14959                      Health Information Management  "
      ]
     },
     "execution_count": 15,
     "metadata": {},
     "output_type": "execute_result"
    }
   ],
   "source": [
    "final.tail()"
   ]
  },
  {
   "cell_type": "code",
   "execution_count": 16,
   "metadata": {},
   "outputs": [
    {
     "data": {
      "text/plain": [
       "['eid',\n",
       " 'Author ID',\n",
       " 'cite',\n",
       " 'Lang',\n",
       " 'Para',\n",
       " 'Title',\n",
       " 'year',\n",
       " 'publication_name',\n",
       " 'publication_type',\n",
       " 'Author Keyword',\n",
       " 'Abbreviation',\n",
       " 'Code',\n",
       " 'Text']"
      ]
     },
     "execution_count": 16,
     "metadata": {},
     "output_type": "execute_result"
    }
   ],
   "source": [
    "list(final)"
   ]
  },
  {
   "cell_type": "code",
   "execution_count": 34,
   "metadata": {},
   "outputs": [
    {
     "data": {
      "text/html": [
       "<div>\n",
       "<style>\n",
       "    .dataframe thead tr:only-child th {\n",
       "        text-align: right;\n",
       "    }\n",
       "\n",
       "    .dataframe thead th {\n",
       "        text-align: left;\n",
       "    }\n",
       "\n",
       "    .dataframe tbody tr th {\n",
       "        vertical-align: top;\n",
       "    }\n",
       "</style>\n",
       "<table border=\"1\" class=\"dataframe\">\n",
       "  <thead>\n",
       "    <tr style=\"text-align: right;\">\n",
       "      <th></th>\n",
       "      <th>Author ID</th>\n",
       "    </tr>\n",
       "  </thead>\n",
       "  <tbody>\n",
       "    <tr>\n",
       "      <th>Author ID</th>\n",
       "      <td>1.0</td>\n",
       "    </tr>\n",
       "  </tbody>\n",
       "</table>\n",
       "</div>"
      ],
      "text/plain": [
       "           Author ID\n",
       "Author ID        1.0"
      ]
     },
     "execution_count": 34,
     "metadata": {},
     "output_type": "execute_result"
    }
   ],
   "source": [
    "final[['Author ID','cite']].corr()"
   ]
  },
  {
   "cell_type": "code",
   "execution_count": 17,
   "metadata": {
    "collapsed": true
   },
   "outputs": [],
   "source": [
    "df=final['cite']\n",
    "final['citation']=df.astype(str).astype(int)"
   ]
  },
  {
   "cell_type": "code",
   "execution_count": 18,
   "metadata": {},
   "outputs": [
    {
     "data": {
      "text/plain": [
       "['eid',\n",
       " 'Author ID',\n",
       " 'cite',\n",
       " 'Lang',\n",
       " 'Para',\n",
       " 'Title',\n",
       " 'year',\n",
       " 'publication_name',\n",
       " 'publication_type',\n",
       " 'Author Keyword',\n",
       " 'Abbreviation',\n",
       " 'Code',\n",
       " 'Text',\n",
       " 'citation']"
      ]
     },
     "execution_count": 18,
     "metadata": {},
     "output_type": "execute_result"
    }
   ],
   "source": [
    "list(final)"
   ]
  },
  {
   "cell_type": "code",
   "execution_count": 19,
   "metadata": {},
   "outputs": [
    {
     "data": {
      "text/html": [
       "<div>\n",
       "<style>\n",
       "    .dataframe thead tr:only-child th {\n",
       "        text-align: right;\n",
       "    }\n",
       "\n",
       "    .dataframe thead th {\n",
       "        text-align: left;\n",
       "    }\n",
       "\n",
       "    .dataframe tbody tr th {\n",
       "        vertical-align: top;\n",
       "    }\n",
       "</style>\n",
       "<table border=\"1\" class=\"dataframe\">\n",
       "  <thead>\n",
       "    <tr style=\"text-align: right;\">\n",
       "      <th></th>\n",
       "      <th>Author ID</th>\n",
       "      <th>citation</th>\n",
       "    </tr>\n",
       "  </thead>\n",
       "  <tbody>\n",
       "    <tr>\n",
       "      <th>Author ID</th>\n",
       "      <td>1.000000</td>\n",
       "      <td>0.040476</td>\n",
       "    </tr>\n",
       "    <tr>\n",
       "      <th>citation</th>\n",
       "      <td>0.040476</td>\n",
       "      <td>1.000000</td>\n",
       "    </tr>\n",
       "  </tbody>\n",
       "</table>\n",
       "</div>"
      ],
      "text/plain": [
       "           Author ID  citation\n",
       "Author ID   1.000000  0.040476\n",
       "citation    0.040476  1.000000"
      ]
     },
     "execution_count": 19,
     "metadata": {},
     "output_type": "execute_result"
    }
   ],
   "source": [
    "final[['Author ID','citation']].corr()"
   ]
  },
  {
   "cell_type": "code",
   "execution_count": 20,
   "metadata": {},
   "outputs": [
    {
     "data": {
      "image/png": "[encoded data removed]",
      "text/plain": [
       "<matplotlib.figure.Figure at 0x245b48472e8>"
      ]
     },
     "metadata": {},
     "output_type": "display_data"
    }
   ],
   "source": [
    "import matplotlib\n",
    "import matplotlib.pyplot as plt\n",
    "%matplotlib inline\n",
    "matplotlib.style.use('ggplot')\n",
    "plt.scatter(final['Author ID'], final['citation'])\n",
    "plt.show()"
   ]
  },
  {
   "cell_type": "code",
   "execution_count": null,
   "metadata": {
    "collapsed": true
   },
   "outputs": [],
   "source": [
    " final.loc[final['citation'].idxmax()]"
   ]
  },
  {
   "cell_type": "code",
   "execution_count": null,
   "metadata": {
    "collapsed": true
   },
   "outputs": [],
   "source": [
    "ff = pd.DataFrame()\n"
   ]
  },
  {
   "cell_type": "code",
   "execution_count": 21,
   "metadata": {
    "collapsed": true
   },
   "outputs": [],
   "source": [
    "final = final[final['citation']<= 5000]"
   ]
  },
  {
   "cell_type": "code",
   "execution_count": 22,
   "metadata": {
    "collapsed": true
   },
   "outputs": [],
   "source": [
    "final=final[final['Author ID']<= 100]"
   ]
  },
  {
   "cell_type": "code",
   "execution_count": 23,
   "metadata": {},
   "outputs": [
    {
     "data": {
      "text/html": [
       "<div>\n",
       "<style>\n",
       "    .dataframe thead tr:only-child th {\n",
       "        text-align: right;\n",
       "    }\n",
       "\n",
       "    .dataframe thead th {\n",
       "        text-align: left;\n",
       "    }\n",
       "\n",
       "    .dataframe tbody tr th {\n",
       "        vertical-align: top;\n",
       "    }\n",
       "</style>\n",
       "<table border=\"1\" class=\"dataframe\">\n",
       "  <thead>\n",
       "    <tr style=\"text-align: right;\">\n",
       "      <th></th>\n",
       "      <th>eid</th>\n",
       "      <th>Author ID</th>\n",
       "      <th>cite</th>\n",
       "      <th>Lang</th>\n",
       "      <th>Para</th>\n",
       "      <th>Title</th>\n",
       "      <th>year</th>\n",
       "      <th>publication_name</th>\n",
       "      <th>publication_type</th>\n",
       "      <th>Author Keyword</th>\n",
       "      <th>Abbreviation</th>\n",
       "      <th>Code</th>\n",
       "      <th>Text</th>\n",
       "      <th>citation</th>\n",
       "    </tr>\n",
       "  </thead>\n",
       "  <tbody>\n",
       "    <tr>\n",
       "      <th>14953</th>\n",
       "      <td>2-s2.0-78049259570</td>\n",
       "      <td>64</td>\n",
       "      <td>38</td>\n",
       "      <td>eng</td>\n",
       "      <td>The Pleiades Promoter Project integrates genom...</td>\n",
       "      <td>A regulatory toolbox of MiniPromoters to drive...</td>\n",
       "      <td>2010</td>\n",
       "      <td>Proceedings of the National Academy of Science...</td>\n",
       "      <td>Journal</td>\n",
       "      <td>['Knockin mice', 'Neuroscience', 'Promoter des...</td>\n",
       "      <td>COMP</td>\n",
       "      <td>1700</td>\n",
       "      <td>Computer Science (all)</td>\n",
       "      <td>38</td>\n",
       "    </tr>\n",
       "    <tr>\n",
       "      <th>14954</th>\n",
       "      <td>2-s2.0-84858593012</td>\n",
       "      <td>65</td>\n",
       "      <td>155</td>\n",
       "      <td>eng</td>\n",
       "      <td>The iPlant Collaborative (iPlant) is a United ...</td>\n",
       "      <td>The iPlant collaborative: Cyberinfrastructure ...</td>\n",
       "      <td>2014</td>\n",
       "      <td>Frontiers in Plant Science</td>\n",
       "      <td>Journal</td>\n",
       "      <td>['Bioinformatics', 'Computational biology', 'C...</td>\n",
       "      <td>AGRI</td>\n",
       "      <td>1101</td>\n",
       "      <td>Agricultural and Biological Sciences (miscella...</td>\n",
       "      <td>155</td>\n",
       "    </tr>\n",
       "    <tr>\n",
       "      <th>14955</th>\n",
       "      <td>2-s2.0-79953755048</td>\n",
       "      <td>69</td>\n",
       "      <td>85</td>\n",
       "      <td>eng</td>\n",
       "      <td>The origin of the epidemic of IgE-associated (...</td>\n",
       "      <td>MeDALL (Mechanisms of the Development of ALLer...</td>\n",
       "      <td>2011</td>\n",
       "      <td>Allergy: European Journal of Allergy and Clini...</td>\n",
       "      <td>Journal</td>\n",
       "      <td>['allergy', 'early diagnosis', 'epigenetics', ...</td>\n",
       "      <td>EART</td>\n",
       "      <td>1908</td>\n",
       "      <td>Geophysics</td>\n",
       "      <td>85</td>\n",
       "    </tr>\n",
       "    <tr>\n",
       "      <th>14956</th>\n",
       "      <td>2-s2.0-80054973816</td>\n",
       "      <td>70</td>\n",
       "      <td>0</td>\n",
       "      <td>eng</td>\n",
       "      <td>The origin of the epidemic of IgE-associated (...</td>\n",
       "      <td>MeDALL (Mechanisms of the Development of ALLer...</td>\n",
       "      <td>2011</td>\n",
       "      <td>Alergia Astma Immunologia</td>\n",
       "      <td>Journal</td>\n",
       "      <td>['Allergy', 'Early diagnosis', 'Epigenetics', ...</td>\n",
       "      <td>MEDI</td>\n",
       "      <td>2718</td>\n",
       "      <td>Health Informatics</td>\n",
       "      <td>0</td>\n",
       "    </tr>\n",
       "    <tr>\n",
       "      <th>14957</th>\n",
       "      <td>2-s2.0-77955373370</td>\n",
       "      <td>82</td>\n",
       "      <td>56</td>\n",
       "      <td>eng</td>\n",
       "      <td>Genotypic algorithms for prediction of HIV-1 c...</td>\n",
       "      <td>Evaluation of the genotypic prediction of HIV-...</td>\n",
       "      <td>2010</td>\n",
       "      <td>Antimicrobial Agents and Chemotherapy</td>\n",
       "      <td>Journal</td>\n",
       "      <td>NaN</td>\n",
       "      <td>BIOC</td>\n",
       "      <td>1300</td>\n",
       "      <td>Biochemistry, Genetics and Molecular Biology (...</td>\n",
       "      <td>56</td>\n",
       "    </tr>\n",
       "  </tbody>\n",
       "</table>\n",
       "</div>"
      ],
      "text/plain": [
       "                      eid  Author ID cite Lang  \\\n",
       "14953  2-s2.0-78049259570         64   38  eng   \n",
       "14954  2-s2.0-84858593012         65  155  eng   \n",
       "14955  2-s2.0-79953755048         69   85  eng   \n",
       "14956  2-s2.0-80054973816         70    0  eng   \n",
       "14957  2-s2.0-77955373370         82   56  eng   \n",
       "\n",
       "                                                    Para  \\\n",
       "14953  The Pleiades Promoter Project integrates genom...   \n",
       "14954  The iPlant Collaborative (iPlant) is a United ...   \n",
       "14955  The origin of the epidemic of IgE-associated (...   \n",
       "14956  The origin of the epidemic of IgE-associated (...   \n",
       "14957  Genotypic algorithms for prediction of HIV-1 c...   \n",
       "\n",
       "                                                   Title  year  \\\n",
       "14953  A regulatory toolbox of MiniPromoters to drive...  2010   \n",
       "14954  The iPlant collaborative: Cyberinfrastructure ...  2014   \n",
       "14955  MeDALL (Mechanisms of the Development of ALLer...  2011   \n",
       "14956  MeDALL (Mechanisms of the Development of ALLer...  2011   \n",
       "14957  Evaluation of the genotypic prediction of HIV-...  2010   \n",
       "\n",
       "                                        publication_name publication_type  \\\n",
       "14953  Proceedings of the National Academy of Science...          Journal   \n",
       "14954                         Frontiers in Plant Science          Journal   \n",
       "14955  Allergy: European Journal of Allergy and Clini...          Journal   \n",
       "14956                          Alergia Astma Immunologia          Journal   \n",
       "14957              Antimicrobial Agents and Chemotherapy          Journal   \n",
       "\n",
       "                                          Author Keyword Abbreviation  Code  \\\n",
       "14953  ['Knockin mice', 'Neuroscience', 'Promoter des...         COMP  1700   \n",
       "14954  ['Bioinformatics', 'Computational biology', 'C...         AGRI  1101   \n",
       "14955  ['allergy', 'early diagnosis', 'epigenetics', ...         EART  1908   \n",
       "14956  ['Allergy', 'Early diagnosis', 'Epigenetics', ...         MEDI  2718   \n",
       "14957                                                NaN         BIOC  1300   \n",
       "\n",
       "                                                    Text  citation  \n",
       "14953                             Computer Science (all)        38  \n",
       "14954  Agricultural and Biological Sciences (miscella...       155  \n",
       "14955                                         Geophysics        85  \n",
       "14956                                 Health Informatics         0  \n",
       "14957  Biochemistry, Genetics and Molecular Biology (...        56  "
      ]
     },
     "execution_count": 23,
     "metadata": {},
     "output_type": "execute_result"
    }
   ],
   "source": [
    "final.tail()"
   ]
  },
  {
   "cell_type": "code",
   "execution_count": 24,
   "metadata": {},
   "outputs": [
    {
     "data": {
      "image/png": "[encoded data removed]",
      "text/plain": [
       "<matplotlib.figure.Figure at 0x245b4847b38>"
      ]
     },
     "metadata": {},
     "output_type": "display_data"
    }
   ],
   "source": [
    "plt.scatter(final['Author ID'], final['citation'])\n",
    "plt.show()"
   ]
  },
  {
   "cell_type": "code",
   "execution_count": 27,
   "metadata": {
    "collapsed": true
   },
   "outputs": [],
   "source": [
    "final=final[final['Author ID']<= 50]\n",
    "final = final[final['citation']<= 800]"
   ]
  },
  {
   "cell_type": "code",
   "execution_count": 28,
   "metadata": {},
   "outputs": [
    {
     "data": {
      "image/png": "[encoded data removed]",
      "text/plain": [
       "<matplotlib.figure.Figure at 0x245b772c358>"
      ]
     },
     "metadata": {},
     "output_type": "display_data"
    }
   ],
   "source": [
    "plt.scatter(final['Author ID'], final['citation'])\n",
    "plt.xlabel('Number of Authors')\n",
    "plt.ylabel('Number of Citations')\n",
    "plt.show()"
   ]
  },
  {
   "cell_type": "code",
   "execution_count": 85,
   "metadata": {},
   "outputs": [
    {
     "data": {
      "text/plain": [
       "(7093, 14)"
      ]
     },
     "execution_count": 85,
     "metadata": {},
     "output_type": "execute_result"
    }
   ],
   "source": [
    "final.shape"
   ]
  },
  {
   "cell_type": "code",
   "execution_count": 87,
   "metadata": {},
   "outputs": [
    {
     "name": "stderr",
     "output_type": "stream",
     "text": [
      "C:\\Users\\Mouna\\Anaconda3\\lib\\site-packages\\ipykernel_launcher.py:1: FutureWarning: pd.rolling_corr is deprecated for Series and will be removed in a future version, replace with \n",
      "\tSeries.rolling(window=90).corr(other=<Series>)\n",
      "  \"\"\"Entry point for launching an IPython kernel.\n"
     ]
    },
    {
     "data": {
      "image/png": "[encoded data removed]",
      "text/plain": [
       "<matplotlib.figure.Figure at 0x1a863434668>"
      ]
     },
     "metadata": {},
     "output_type": "display_data"
    }
   ],
   "source": [
    "rolling_correlation = pd.rolling_corr(final['Author ID'], final['citation'], 90)\n",
    "plt.figure(figsize=(20,10))\n",
    "plt.plot(rolling_correlation)\n",
    "plt.xlabel('Day')\n",
    "plt.ylabel('60-day Rolling Correlation')\n",
    "plt.show()"
   ]
  },
  {
   "cell_type": "code",
   "execution_count": null,
   "metadata": {
    "collapsed": true
   },
   "outputs": [],
   "source": []
  }
 ],
 "metadata": {
  "kernelspec": {
   "display_name": "Python 3",
   "language": "python",
   "name": "python3"
  },
  "language_info": {
   "codemirror_mode": {
    "name": "ipython",
    "version": 3
   },
   "file_extension": ".py",
   "mimetype": "text/x-python",
   "name": "python",
   "nbconvert_exporter": "python",
   "pygments_lexer": "ipython3",
   "version": "3.6.3"
  }
 },
 "nbformat": 4,
 "nbformat_minor": 2
}
