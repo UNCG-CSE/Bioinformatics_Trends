{
 "cells": [
  {
   "cell_type": "code",
   "execution_count": 52,
   "metadata": {
    "scrolled": true
   },
   "outputs": [
    {
     "data": {
      "text/plain": [
       "(7342, 5)"
      ]
     },
     "execution_count": 52,
     "metadata": {},
     "output_type": "execute_result"
    }
   ],
   "source": [
    "import pandas as pd\n",
    "\n",
    "df = pd.read_csv(r'C:\\Users\\Darpan\\Desktop\\Subjects\\Data Science\\Raw Data\\JSON Files\\2016-2017-Darpan.csv',encoding='cp1252', dtype='str', error_bad_lines=False)\n",
    "df.shape"
   ]
  },
  {
   "cell_type": "code",
   "execution_count": 53,
   "metadata": {},
   "outputs": [
    {
     "data": {
      "text/html": [
       "<div>\n",
       "<style>\n",
       "    .dataframe thead tr:only-child th {\n",
       "        text-align: right;\n",
       "    }\n",
       "\n",
       "    .dataframe thead th {\n",
       "        text-align: left;\n",
       "    }\n",
       "\n",
       "    .dataframe tbody tr th {\n",
       "        vertical-align: top;\n",
       "    }\n",
       "</style>\n",
       "<table border=\"1\" class=\"dataframe\">\n",
       "  <thead>\n",
       "    <tr style=\"text-align: right;\">\n",
       "      <th></th>\n",
       "      <th>eid</th>\n",
       "      <th>cite</th>\n",
       "      <th>Lang</th>\n",
       "      <th>Para</th>\n",
       "      <th>Title</th>\n",
       "    </tr>\n",
       "  </thead>\n",
       "  <tbody>\n",
       "    <tr>\n",
       "      <th>0</th>\n",
       "      <td>2-s2.0-84992650141</td>\n",
       "      <td>0</td>\n",
       "      <td>eng</td>\n",
       "      <td>In this chapter an algorithm for the induction...</td>\n",
       "      <td>An algorithm based on a directed acyclic word ...</td>\n",
       "    </tr>\n",
       "    <tr>\n",
       "      <th>1</th>\n",
       "      <td>2-s2.0-85008506396</td>\n",
       "      <td>0</td>\n",
       "      <td>eng</td>\n",
       "      <td>An important candidate gene on Y-chromosome is...</td>\n",
       "      <td>Analysis of consequences of non-synonymous SNP...</td>\n",
       "    </tr>\n",
       "    <tr>\n",
       "      <th>2</th>\n",
       "      <td>2-s2.0-84997190947</td>\n",
       "      <td>0</td>\n",
       "      <td>eng</td>\n",
       "      <td>Myofibrillar myopathy (MFM) is a group of inhe...</td>\n",
       "      <td>A novel dominant D109A CRYAB mutation in a fam...</td>\n",
       "    </tr>\n",
       "    <tr>\n",
       "      <th>3</th>\n",
       "      <td>2-s2.0-85003587564</td>\n",
       "      <td>0</td>\n",
       "      <td>eng</td>\n",
       "      <td>Deoxyribonucleic acid (DNA) is a long flexible...</td>\n",
       "      <td>Extensional Response and Equilibrium Kinetics ...</td>\n",
       "    </tr>\n",
       "    <tr>\n",
       "      <th>4</th>\n",
       "      <td>2-s2.0-85006304239</td>\n",
       "      <td>0</td>\n",
       "      <td>eng</td>\n",
       "      <td>In this work, we consider the minimum-cost sha...</td>\n",
       "      <td>Solving minimum-cost shared arborescence problems</td>\n",
       "    </tr>\n",
       "    <tr>\n",
       "      <th>5</th>\n",
       "      <td>2-s2.0-85009348432</td>\n",
       "      <td>0</td>\n",
       "      <td>eng</td>\n",
       "      <td>Drosophila have served as a model for research...</td>\n",
       "      <td>Small RNA-Seq analysis reveals microRNA-regula...</td>\n",
       "    </tr>\n",
       "    <tr>\n",
       "      <th>6</th>\n",
       "      <td>2-s2.0-85006304193</td>\n",
       "      <td>0</td>\n",
       "      <td>eng</td>\n",
       "      <td>Pectin degrading enzymes are essential for qua...</td>\n",
       "      <td>Regulation of the synthesis of pulp degrading ...</td>\n",
       "    </tr>\n",
       "    <tr>\n",
       "      <th>7</th>\n",
       "      <td>2-s2.0-84981738091</td>\n",
       "      <td>0</td>\n",
       "      <td>eng</td>\n",
       "      <td>In parallel with the development of nucleotide...</td>\n",
       "      <td>PGMiner: Complete proteogenomics workflow; fro...</td>\n",
       "    </tr>\n",
       "    <tr>\n",
       "      <th>8</th>\n",
       "      <td>2-s2.0-85000352209</td>\n",
       "      <td>0</td>\n",
       "      <td>eng</td>\n",
       "      <td>Recombined fingerprints have been suggested as...</td>\n",
       "      <td>Collusion-resistant and privacy-preserving P2P...</td>\n",
       "    </tr>\n",
       "    <tr>\n",
       "      <th>9</th>\n",
       "      <td>2-s2.0-85003554417</td>\n",
       "      <td>0</td>\n",
       "      <td>eng</td>\n",
       "      <td>Increased knowledge of DNA-binding proteins wo...</td>\n",
       "      <td>Local-DPP: An improved DNA-binding protein pre...</td>\n",
       "    </tr>\n",
       "  </tbody>\n",
       "</table>\n",
       "</div>"
      ],
      "text/plain": [
       "                  eid cite Lang  \\\n",
       "0  2-s2.0-84992650141    0  eng   \n",
       "1  2-s2.0-85008506396    0  eng   \n",
       "2  2-s2.0-84997190947    0  eng   \n",
       "3  2-s2.0-85003587564    0  eng   \n",
       "4  2-s2.0-85006304239    0  eng   \n",
       "5  2-s2.0-85009348432    0  eng   \n",
       "6  2-s2.0-85006304193    0  eng   \n",
       "7  2-s2.0-84981738091    0  eng   \n",
       "8  2-s2.0-85000352209    0  eng   \n",
       "9  2-s2.0-85003554417    0  eng   \n",
       "\n",
       "                                                Para  \\\n",
       "0  In this chapter an algorithm for the induction...   \n",
       "1  An important candidate gene on Y-chromosome is...   \n",
       "2  Myofibrillar myopathy (MFM) is a group of inhe...   \n",
       "3  Deoxyribonucleic acid (DNA) is a long flexible...   \n",
       "4  In this work, we consider the minimum-cost sha...   \n",
       "5  Drosophila have served as a model for research...   \n",
       "6  Pectin degrading enzymes are essential for qua...   \n",
       "7  In parallel with the development of nucleotide...   \n",
       "8  Recombined fingerprints have been suggested as...   \n",
       "9  Increased knowledge of DNA-binding proteins wo...   \n",
       "\n",
       "                                               Title  \n",
       "0  An algorithm based on a directed acyclic word ...  \n",
       "1  Analysis of consequences of non-synonymous SNP...  \n",
       "2  A novel dominant D109A CRYAB mutation in a fam...  \n",
       "3  Extensional Response and Equilibrium Kinetics ...  \n",
       "4  Solving minimum-cost shared arborescence problems  \n",
       "5  Small RNA-Seq analysis reveals microRNA-regula...  \n",
       "6  Regulation of the synthesis of pulp degrading ...  \n",
       "7  PGMiner: Complete proteogenomics workflow; fro...  \n",
       "8  Collusion-resistant and privacy-preserving P2P...  \n",
       "9  Local-DPP: An improved DNA-binding protein pre...  "
      ]
     },
     "execution_count": 53,
     "metadata": {},
     "output_type": "execute_result"
    }
   ],
   "source": [
    "df[:10]"
   ]
  },
  {
   "cell_type": "code",
   "execution_count": 54,
   "metadata": {},
   "outputs": [
    {
     "data": {
      "text/html": [
       "<div>\n",
       "<style>\n",
       "    .dataframe thead tr:only-child th {\n",
       "        text-align: right;\n",
       "    }\n",
       "\n",
       "    .dataframe thead th {\n",
       "        text-align: left;\n",
       "    }\n",
       "\n",
       "    .dataframe tbody tr th {\n",
       "        vertical-align: top;\n",
       "    }\n",
       "</style>\n",
       "<table border=\"1\" class=\"dataframe\">\n",
       "  <thead>\n",
       "    <tr style=\"text-align: right;\">\n",
       "      <th></th>\n",
       "      <th>eid</th>\n",
       "      <th>cite</th>\n",
       "      <th>Lang</th>\n",
       "      <th>Para</th>\n",
       "      <th>Title</th>\n",
       "    </tr>\n",
       "  </thead>\n",
       "  <tbody>\n",
       "    <tr>\n",
       "      <th>7337</th>\n",
       "      <td>2-s2.0-84958214218</td>\n",
       "      <td>1</td>\n",
       "      <td>eng</td>\n",
       "      <td>The leaf beetle Ambrostoma quadriimpressum (Co...</td>\n",
       "      <td>Identification and comparison of candidate olf...</td>\n",
       "    </tr>\n",
       "    <tr>\n",
       "      <th>7338</th>\n",
       "      <td>2-s2.0-84995527084</td>\n",
       "      <td>0</td>\n",
       "      <td>eng</td>\n",
       "      <td>We cloned the full-length mitogen activated pr...</td>\n",
       "      <td>Cloning and expression analysis of the MKK3 ge...</td>\n",
       "    </tr>\n",
       "    <tr>\n",
       "      <th>7339</th>\n",
       "      <td>2-s2.0-84949441886</td>\n",
       "      <td>0</td>\n",
       "      <td>eng</td>\n",
       "      <td>Background and aim: Natural killer cells are p...</td>\n",
       "      <td>Contradicting roles of miR-182 in both NK cell...</td>\n",
       "    </tr>\n",
       "    <tr>\n",
       "      <th>7340</th>\n",
       "      <td>2-s2.0-84961297766</td>\n",
       "      <td>1</td>\n",
       "      <td>eng</td>\n",
       "      <td>Tomato (Solanum lycopersicum) is one of the mo...</td>\n",
       "      <td>The occurrence of tomato yellow ring virus on ...</td>\n",
       "    </tr>\n",
       "    <tr>\n",
       "      <th>7341</th>\n",
       "      <td>2-s2.0-84994403445</td>\n",
       "      <td>0</td>\n",
       "      <td>eng</td>\n",
       "      <td>Background: Two histologic subtypes are recogn...</td>\n",
       "      <td>Integrated Phenotypic/Genotypic Analysis of Pa...</td>\n",
       "    </tr>\n",
       "  </tbody>\n",
       "</table>\n",
       "</div>"
      ],
      "text/plain": [
       "                     eid cite Lang  \\\n",
       "7337  2-s2.0-84958214218    1  eng   \n",
       "7338  2-s2.0-84995527084    0  eng   \n",
       "7339  2-s2.0-84949441886    0  eng   \n",
       "7340  2-s2.0-84961297766    1  eng   \n",
       "7341  2-s2.0-84994403445    0  eng   \n",
       "\n",
       "                                                   Para  \\\n",
       "7337  The leaf beetle Ambrostoma quadriimpressum (Co...   \n",
       "7338  We cloned the full-length mitogen activated pr...   \n",
       "7339  Background and aim: Natural killer cells are p...   \n",
       "7340  Tomato (Solanum lycopersicum) is one of the mo...   \n",
       "7341  Background: Two histologic subtypes are recogn...   \n",
       "\n",
       "                                                  Title  \n",
       "7337  Identification and comparison of candidate olf...  \n",
       "7338  Cloning and expression analysis of the MKK3 ge...  \n",
       "7339  Contradicting roles of miR-182 in both NK cell...  \n",
       "7340  The occurrence of tomato yellow ring virus on ...  \n",
       "7341  Integrated Phenotypic/Genotypic Analysis of Pa...  "
      ]
     },
     "execution_count": 54,
     "metadata": {},
     "output_type": "execute_result"
    }
   ],
   "source": [
    "df.tail()"
   ]
  },
  {
   "cell_type": "code",
   "execution_count": 55,
   "metadata": {},
   "outputs": [
    {
     "data": {
      "text/html": [
       "<div>\n",
       "<style>\n",
       "    .dataframe thead tr:only-child th {\n",
       "        text-align: right;\n",
       "    }\n",
       "\n",
       "    .dataframe thead th {\n",
       "        text-align: left;\n",
       "    }\n",
       "\n",
       "    .dataframe tbody tr th {\n",
       "        vertical-align: top;\n",
       "    }\n",
       "</style>\n",
       "<table border=\"1\" class=\"dataframe\">\n",
       "  <thead>\n",
       "    <tr style=\"text-align: right;\">\n",
       "      <th></th>\n",
       "      <th>eid</th>\n",
       "      <th>cite</th>\n",
       "      <th>Lang</th>\n",
       "      <th>Para</th>\n",
       "      <th>Title</th>\n",
       "    </tr>\n",
       "  </thead>\n",
       "  <tbody>\n",
       "    <tr>\n",
       "      <th>count</th>\n",
       "      <td>7339</td>\n",
       "      <td>7339</td>\n",
       "      <td>7225</td>\n",
       "      <td>7225</td>\n",
       "      <td>7339</td>\n",
       "    </tr>\n",
       "    <tr>\n",
       "      <th>unique</th>\n",
       "      <td>7339</td>\n",
       "      <td>26</td>\n",
       "      <td>1</td>\n",
       "      <td>7204</td>\n",
       "      <td>7305</td>\n",
       "    </tr>\n",
       "    <tr>\n",
       "      <th>top</th>\n",
       "      <td>2-s2.0-84956733763</td>\n",
       "      <td>0</td>\n",
       "      <td>eng</td>\n",
       "      <td>{'sup': ['1', '2', 'rd', '3', '4'], 'inf': ['1...</td>\n",
       "      <td>Comparative analysis of molecular structure id...</td>\n",
       "    </tr>\n",
       "    <tr>\n",
       "      <th>freq</th>\n",
       "      <td>1</td>\n",
       "      <td>5286</td>\n",
       "      <td>7225</td>\n",
       "      <td>7</td>\n",
       "      <td>17</td>\n",
       "    </tr>\n",
       "  </tbody>\n",
       "</table>\n",
       "</div>"
      ],
      "text/plain": [
       "                       eid  cite  Lang  \\\n",
       "count                 7339  7339  7225   \n",
       "unique                7339    26     1   \n",
       "top     2-s2.0-84956733763     0   eng   \n",
       "freq                     1  5286  7225   \n",
       "\n",
       "                                                     Para  \\\n",
       "count                                                7225   \n",
       "unique                                               7204   \n",
       "top     {'sup': ['1', '2', 'rd', '3', '4'], 'inf': ['1...   \n",
       "freq                                                    7   \n",
       "\n",
       "                                                    Title  \n",
       "count                                                7339  \n",
       "unique                                               7305  \n",
       "top     Comparative analysis of molecular structure id...  \n",
       "freq                                                   17  "
      ]
     },
     "execution_count": 55,
     "metadata": {},
     "output_type": "execute_result"
    }
   ],
   "source": [
    "df.describe()"
   ]
  },
  {
   "cell_type": "code",
   "execution_count": 56,
   "metadata": {},
   "outputs": [
    {
     "data": {
      "text/html": [
       "<div>\n",
       "<style>\n",
       "    .dataframe thead tr:only-child th {\n",
       "        text-align: right;\n",
       "    }\n",
       "\n",
       "    .dataframe thead th {\n",
       "        text-align: left;\n",
       "    }\n",
       "\n",
       "    .dataframe tbody tr th {\n",
       "        vertical-align: top;\n",
       "    }\n",
       "</style>\n",
       "<table border=\"1\" class=\"dataframe\">\n",
       "  <thead>\n",
       "    <tr style=\"text-align: right;\">\n",
       "      <th></th>\n",
       "      <th>eid</th>\n",
       "      <th>cite</th>\n",
       "      <th>Lang</th>\n",
       "      <th>Para</th>\n",
       "      <th>Title</th>\n",
       "    </tr>\n",
       "  </thead>\n",
       "  <tbody>\n",
       "    <tr>\n",
       "      <th>816</th>\n",
       "      <td>NaN</td>\n",
       "      <td>NaN</td>\n",
       "      <td>NaN</td>\n",
       "      <td>NaN</td>\n",
       "      <td>NaN</td>\n",
       "    </tr>\n",
       "    <tr>\n",
       "      <th>1941</th>\n",
       "      <td>NaN</td>\n",
       "      <td>NaN</td>\n",
       "      <td>NaN</td>\n",
       "      <td>NaN</td>\n",
       "      <td>NaN</td>\n",
       "    </tr>\n",
       "    <tr>\n",
       "      <th>3192</th>\n",
       "      <td>NaN</td>\n",
       "      <td>NaN</td>\n",
       "      <td>NaN</td>\n",
       "      <td>NaN</td>\n",
       "      <td>NaN</td>\n",
       "    </tr>\n",
       "  </tbody>\n",
       "</table>\n",
       "</div>"
      ],
      "text/plain": [
       "      eid cite Lang Para Title\n",
       "816   NaN  NaN  NaN  NaN   NaN\n",
       "1941  NaN  NaN  NaN  NaN   NaN\n",
       "3192  NaN  NaN  NaN  NaN   NaN"
      ]
     },
     "execution_count": 56,
     "metadata": {},
     "output_type": "execute_result"
    }
   ],
   "source": [
    "ids = df[\"eid\"]\n",
    "df[ids.isin(ids[ids.duplicated()])]"
   ]
  },
  {
   "cell_type": "code",
   "execution_count": 21,
   "metadata": {},
   "outputs": [
    {
     "data": {
      "text/plain": [
       "13146"
      ]
     },
     "execution_count": 21,
     "metadata": {},
     "output_type": "execute_result"
    }
   ],
   "source": [
    "df['eid'].count()"
   ]
  },
  {
   "cell_type": "code",
   "execution_count": 22,
   "metadata": {},
   "outputs": [
    {
     "data": {
      "text/plain": [
       "13146"
      ]
     },
     "execution_count": 22,
     "metadata": {},
     "output_type": "execute_result"
    }
   ],
   "source": [
    "df.eid.nunique()"
   ]
  },
  {
   "cell_type": "code",
   "execution_count": null,
   "metadata": {
    "collapsed": true
   },
   "outputs": [],
   "source": []
  }
 ],
 "metadata": {
  "kernelspec": {
   "display_name": "Python 3",
   "language": "python",
   "name": "python3"
  },
  "language_info": {
   "codemirror_mode": {
    "name": "ipython",
    "version": 3
   },
   "file_extension": ".py",
   "mimetype": "text/x-python",
   "name": "python",
   "nbconvert_exporter": "python",
   "pygments_lexer": "ipython3",
   "version": "3.6.3"
  }
 },
 "nbformat": 4,
 "nbformat_minor": 2
}
