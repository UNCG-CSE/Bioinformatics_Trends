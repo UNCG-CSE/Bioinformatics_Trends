{
 "cells": [
  {
   "cell_type": "code",
   "execution_count": 1,
   "metadata": {},
   "outputs": [],
   "source": [
    "import matplotlib \n",
    "import numpy as np\n",
    "from scipy import stats\n",
    "import matplotlib.pyplot as plt\n",
    "import json\n",
    "import pandas\n",
    "import pandas as pd\n",
    "import csv\n",
    "import seaborn as sns"
   ]
  },
  {
   "cell_type": "code",
   "execution_count": 2,
   "metadata": {},
   "outputs": [
    {
     "data": {
      "text/plain": [
       "(77604, 4)"
      ]
     },
     "execution_count": 2,
     "metadata": {},
     "output_type": "execute_result"
    }
   ],
   "source": [
    "df = pd.read_csv(r'C:\\Users\\Luke\\Desktop\\Fall_2018\\505\\project_csvs\\authorAffil_10_11.csv', encoding='cp1252', dtype='str', error_bad_lines=False)\n",
    "df.shape"
   ]
  },
  {
   "cell_type": "code",
   "execution_count": 3,
   "metadata": {},
   "outputs": [],
   "source": [
    "del df['Unnamed: 0']"
   ]
  },
  {
   "cell_type": "code",
   "execution_count": 4,
   "metadata": {},
   "outputs": [],
   "source": [
    "df.columns = ['eid', 'Author_ID', 'Affiliation_ID']"
   ]
  },
  {
   "cell_type": "code",
   "execution_count": 5,
   "metadata": {},
   "outputs": [],
   "source": [
    "eid = df['eid']"
   ]
  },
  {
   "cell_type": "code",
   "execution_count": 6,
   "metadata": {},
   "outputs": [
    {
     "data": {
      "text/plain": [
       "2-s2.0-78651319979    504\n",
       "2-s2.0-79958143783    179\n",
       "2-s2.0-79953755048     91\n",
       "2-s2.0-79955034739     91\n",
       "2-s2.0-80054973816     91\n",
       "2-s2.0-77955373370     82\n",
       "2-s2.0-78049259570     77\n",
       "2-s2.0-84858593012     70\n",
       "2-s2.0-84859350703     57\n",
       "2-s2.0-84911884509     57\n",
       "2-s2.0-84862908655     54\n",
       "2-s2.0-79957605208     49\n",
       "2-s2.0-79952549595     45\n",
       "2-s2.0-78651312912     45\n",
       "2-s2.0-77951154173     42\n",
       "2-s2.0-80053590866     42\n",
       "2-s2.0-79959937504     41\n",
       "2-s2.0-80055082475     41\n",
       "2-s2.0-77956754865     40\n",
       "2-s2.0-78651323941     40\n",
       "2-s2.0-78349238940     39\n",
       "2-s2.0-78751600248     38\n",
       "2-s2.0-84860389382     37\n",
       "2-s2.0-84855171902     36\n",
       "2-s2.0-78649700130     35\n",
       "2-s2.0-78049441932     34\n",
       "2-s2.0-84921259211     33\n",
       "2-s2.0-77149124246     33\n",
       "2-s2.0-78651300218     33\n",
       "2-s2.0-79956022110     33\n",
       "                     ... \n",
       "2-s2.0-79960538909      1\n",
       "2-s2.0-79251558414      1\n",
       "2-s2.0-76249092474      1\n",
       "2-s2.0-80052032889      1\n",
       "2-s2.0-79851513173      1\n",
       "2-s2.0-77953484176      1\n",
       "2-s2.0-84861083916      1\n",
       "2-s2.0-77955624503      1\n",
       "2-s2.0-77949689794      1\n",
       "2-s2.0-79960700903      1\n",
       "2-s2.0-84857554599      1\n",
       "2-s2.0-79960536112      1\n",
       "2-s2.0-77956151611      1\n",
       "2-s2.0-79955801547      1\n",
       "2-s2.0-80053949834      1\n",
       "2-s2.0-84892831610      1\n",
       "2-s2.0-77956142189      1\n",
       "2-s2.0-84881620509      1\n",
       "2-s2.0-80054752012      1\n",
       "2-s2.0-78650728650      1\n",
       "2-s2.0-77953391592      1\n",
       "2-s2.0-77951643070      1\n",
       "2-s2.0-80052373470      1\n",
       "2-s2.0-78751680980      1\n",
       "2-s2.0-84884608773      1\n",
       "2-s2.0-73649091445      1\n",
       "2-s2.0-83455228523      1\n",
       "2-s2.0-80455140527      1\n",
       "2-s2.0-80052845101      1\n",
       "2-s2.0-79960961344      1\n",
       "Name: eid, Length: 15247, dtype: int64"
      ]
     },
     "execution_count": 6,
     "metadata": {},
     "output_type": "execute_result"
    }
   ],
   "source": [
    "eid.value_counts()"
   ]
  },
  {
   "cell_type": "code",
   "execution_count": 8,
   "metadata": {},
   "outputs": [],
   "source": [
    "temp = df\n",
    "aff_cts = []"
   ]
  },
  {
   "cell_type": "code",
   "execution_count": 9,
   "metadata": {},
   "outputs": [
    {
     "data": {
      "text/plain": [
       "77604"
      ]
     },
     "execution_count": 9,
     "metadata": {},
     "output_type": "execute_result"
    }
   ],
   "source": [
    "len(temp.eid)"
   ]
  },
  {
   "cell_type": "code",
   "execution_count": 10,
   "metadata": {},
   "outputs": [],
   "source": [
    "temp_aff_ct = 1\n",
    "for x in range(0,len(temp.eid)-1):\n",
    "    # if the next eid matches, lets see if we have a new affiliation\n",
    "    if temp.eid[x] == temp.eid[x+1]:\n",
    "        # if we have a new affiliation, up the counter\n",
    "        if temp.Affiliation_ID[x] != temp.Affiliation_ID[x+1]:\n",
    "            temp_aff_ct = temp_aff_ct + 1\n",
    "    else:\n",
    "        aff_cts.append(temp_aff_ct)\n",
    "        temp_aff_ct = 1"
   ]
  },
  {
   "cell_type": "code",
   "execution_count": 11,
   "metadata": {},
   "outputs": [],
   "source": [
    "aff = pd.Series(aff_cts)"
   ]
  },
  {
   "cell_type": "code",
   "execution_count": 12,
   "metadata": {},
   "outputs": [
    {
     "data": {
      "text/plain": [
       "count    15246.000000\n",
       "mean         2.952643\n",
       "std          5.395222\n",
       "min          1.000000\n",
       "25%          1.000000\n",
       "50%          2.000000\n",
       "75%          3.000000\n",
       "max        504.000000\n",
       "dtype: float64"
      ]
     },
     "execution_count": 12,
     "metadata": {},
     "output_type": "execute_result"
    }
   ],
   "source": [
    "aff.describe()"
   ]
  },
  {
   "cell_type": "code",
   "execution_count": 13,
   "metadata": {},
   "outputs": [
    {
     "data": {
      "text/plain": [
       "1      6853\n",
       "2      2448\n",
       "3      2248\n",
       "4      1135\n",
       "5       754\n",
       "6       468\n",
       "7       339\n",
       "8       231\n",
       "9       177\n",
       "10      121\n",
       "11       81\n",
       "12       77\n",
       "13       56\n",
       "14       44\n",
       "16       33\n",
       "15       29\n",
       "17       25\n",
       "18       19\n",
       "20       14\n",
       "19       12\n",
       "21       11\n",
       "24       11\n",
       "22       10\n",
       "27        6\n",
       "26        5\n",
       "33        5\n",
       "23        5\n",
       "25        4\n",
       "30        3\n",
       "29        3\n",
       "28        3\n",
       "90        2\n",
       "36        2\n",
       "32        1\n",
       "504       1\n",
       "48        1\n",
       "79        1\n",
       "34        1\n",
       "35        1\n",
       "47        1\n",
       "91        1\n",
       "38        1\n",
       "94        1\n",
       "39        1\n",
       "43        1\n",
       "dtype: int64"
      ]
     },
     "execution_count": 13,
     "metadata": {},
     "output_type": "execute_result"
    }
   ],
   "source": [
    "aff.value_counts()"
   ]
  },
  {
   "cell_type": "code",
   "execution_count": null,
   "metadata": {},
   "outputs": [],
   "source": [
    "for x in range(0,len(aff)):\n",
    "    if aff[x] == 0:\n",
    "        print(x)"
   ]
  },
  {
   "cell_type": "code",
   "execution_count": 14,
   "metadata": {},
   "outputs": [
    {
     "data": {
      "text/plain": [
       "count                  77604\n",
       "unique                 15247\n",
       "top       2-s2.0-78651319979\n",
       "freq                     504\n",
       "Name: eid, dtype: object"
      ]
     },
     "execution_count": 14,
     "metadata": {},
     "output_type": "execute_result"
    }
   ],
   "source": [
    "temp.eid.describe()"
   ]
  },
  {
   "cell_type": "code",
   "execution_count": 21,
   "metadata": {},
   "outputs": [
    {
     "data": {
      "text/plain": [
       "<matplotlib.axes._subplots.AxesSubplot at 0x148a4178c50>"
      ]
     },
     "execution_count": 21,
     "metadata": {},
     "output_type": "execute_result"
    },
    {
     "data": {
      "image/png": "[encoded data removed]",
      "text/plain": [
       "<Figure size 864x864 with 1 Axes>"
      ]
     },
     "metadata": {},
     "output_type": "display_data"
    }
   ],
   "source": [
    "pd.DataFrame(aff).plot(kind=\"density\",  # Plot the distribution\n",
    "                               figsize=(12,12),\n",
    "                               fontsize=15.0,\n",
    "                               xlim=(-2,30),\n",
    "                               ylim=(0,.3),\n",
    "                               grid=True,\n",
    "                               title=\"Probability Distribution for # of affiliations\")"
   ]
  },
  {
   "cell_type": "code",
   "execution_count": null,
   "metadata": {},
   "outputs": [],
   "source": [
    "aff.hist()"
   ]
  },
  {
   "cell_type": "code",
   "execution_count": 19,
   "metadata": {},
   "outputs": [
    {
     "data": {
      "text/plain": [
       "<matplotlib.axes._subplots.AxesSubplot at 0x148a3d31860>"
      ]
     },
     "execution_count": 19,
     "metadata": {},
     "output_type": "execute_result"
    },
    {
     "data": {
      "image/png": "[encoded data removed]",
      "text/plain": [
       "<Figure size 432x288 with 1 Axes>"
      ]
     },
     "metadata": {},
     "output_type": "display_data"
    }
   ],
   "source": [
    "sns.kdeplot(np.array(aff), \n",
    "            gridsize=5005,\n",
    "            bw=.5,)"
   ]
  },
  {
   "cell_type": "code",
   "execution_count": null,
   "metadata": {},
   "outputs": [],
   "source": []
  }
 ],
 "metadata": {
  "kernelspec": {
   "display_name": "Python 3",
   "language": "python",
   "name": "python3"
  },
  "language_info": {
   "codemirror_mode": {
    "name": "ipython",
    "version": 3
   },
   "file_extension": ".py",
   "mimetype": "text/x-python",
   "name": "python",
   "nbconvert_exporter": "python",
   "pygments_lexer": "ipython3",
   "version": "3.6.5"
  }
 },
 "nbformat": 4,
 "nbformat_minor": 2
}
