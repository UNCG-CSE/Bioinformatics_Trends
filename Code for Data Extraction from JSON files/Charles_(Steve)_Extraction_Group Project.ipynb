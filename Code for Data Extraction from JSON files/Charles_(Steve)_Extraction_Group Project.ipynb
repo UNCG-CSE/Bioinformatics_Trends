{
 "cells": [
  {
   "cell_type": "code",
   "execution_count": null,
   "metadata": {},
   "outputs": [],
   "source": [
    "#The cell below line[3] is the only alteration per each file extraction, changing only the filepath within quotations."
   ]
  },
  {
   "cell_type": "code",
   "execution_count": null,
   "metadata": {},
   "outputs": [],
   "source": [
    "import json\n",
    "import pandas\n",
    "json_data = open(r'C:\\Users\\stevi\\Downloads\\School\\CSC 505\\scopus1986-2007.json').read()\n",
    "data=json.loads(json_data)\n",
    "data[0]\n"
   ]
  },
  {
   "cell_type": "code",
   "execution_count": null,
   "metadata": {},
   "outputs": [],
   "source": [
    "#Check number of Elements in the 'data' list\n",
    "len(data)"
   ]
  },
  {
   "cell_type": "code",
   "execution_count": null,
   "metadata": {},
   "outputs": [],
   "source": [
    "print(data[6217])"
   ]
  },
  {
   "cell_type": "code",
   "execution_count": null,
   "metadata": {
    "scrolled": true
   },
   "outputs": [],
   "source": [
    "print(data[22]['abstracts-retrieval-response'])"
   ]
  },
  {
   "cell_type": "code",
   "execution_count": null,
   "metadata": {},
   "outputs": [],
   "source": [
    "for x in range(0,len(data)):\n",
    "    if 'abstracts-retrieval-response' in data[x].keys():\n",
    "        if 'affiliation' in data[x]['abstracts-retrieval-response'].keys():\n",
    "            print (data[x]['abstracts-retrieval-response']['affiliation'])\n",
    "        else:\n",
    "            print (\"not\")"
   ]
  },
  {
   "cell_type": "code",
   "execution_count": null,
   "metadata": {},
   "outputs": [],
   "source": [
    "#Create dataframe\n",
    "import pandas as pd\n",
    "df= pd.DataFrame()"
   ]
  },
  {
   "cell_type": "code",
   "execution_count": null,
   "metadata": {},
   "outputs": [],
   "source": [
    "#Get all unique identifiers in a list (id)\n",
    "id = []\n",
    "\n",
    "for x in range(0,len(data)):\n",
    "    if 'abstracts-retrieval-response' in data[x].keys():\n",
    "        if 'affiliation'in data[x]['abstracts-retrieval-response']:\n",
    "            if type(data[x]['abstracts-retrieval-response']['affiliation']) is list:\n",
    "                id.append(data[x]['abstracts-retrieval-response']['affiliation'][0]['@id'])\n",
    "                print(x)\n",
    "            else:\n",
    "                id.append(data[x]['abstracts-retrieval-response']['affiliation']['@id'])\n",
    "        else:\n",
    "            id.append(\"NaN\")\n",
    "    else:\n",
    "        id.append(\"NaN\")\n",
    "        \n",
    "len(id)"
   ]
  },
  {
   "cell_type": "code",
   "execution_count": null,
   "metadata": {},
   "outputs": [],
   "source": [
    "#Get all unique identifiers in a list (id)\n",
    "id = []\n",
    "name= []\n",
    "country = []\n",
    "#Get all eid (unique identifiers) of papers in a list\n",
    "eid = []\n",
    "#if statements checking conditions of list. Because some publications have lists, while others do not. \n",
    "for x in range(0,len(data)):\n",
    "    if 'abstracts-retrieval-response' in data[x].keys():\n",
    "        if 'affiliation'in data[x]['abstracts-retrieval-response']:\n",
    "            if type(data[x]['abstracts-retrieval-response']['affiliation']) is list:\n",
    "                for i in range(0, len(data[x]['abstracts-retrieval-response']['affiliation'])):\n",
    "                     id.append(data[x]['abstracts-retrieval-response']['affiliation'][i]['@id'])\n",
    "                     name.append(data[x]['abstracts-retrieval-response']['affiliation'][i]['affilname'])\n",
    "                     country.append(data[x]['abstracts-retrieval-response']['affiliation'][i]['affiliation-country'])\n",
    "                     eid.append(data[x]['abstracts-retrieval-response']['coredata']['eid'])\n",
    "                     #print((data[x]['abstracts-retrieval-response']['affiliation'][i]['@id']))\n",
    "            else:\n",
    "                id.append(data[x]['abstracts-retrieval-response']['affiliation']['@id'])\n",
    "                name.append(data[x]['abstracts-retrieval-response']['affiliation']['affilname'])\n",
    "                country.append(data[x]['abstracts-retrieval-response']['affiliation']['affiliation-country'])\n",
    "                eid.append(data[x]['abstracts-retrieval-response']['coredata']['eid'])\n",
    "        else:\n",
    "            id.append(\"NaN\")\n",
    "            name.append(\"NaN\")\n",
    "            country.append(\"NaN\")\n",
    "            eid.append(\"NaN\")\n",
    "    else:\n",
    "        id.append(\"NaN\")\n",
    "        name.append(\"NaN\")\n",
    "        country.append(\"NaN\")\n",
    "        eid.append(\"NaN\")\n",
    "len(id)\n"
   ]
  },
  {
   "cell_type": "code",
   "execution_count": null,
   "metadata": {},
   "outputs": [],
   "source": [
    "len(eid)"
   ]
  },
  {
   "cell_type": "code",
   "execution_count": null,
   "metadata": {},
   "outputs": [],
   "source": [
    "df['eid'] = eid\n",
    "df[\"affiliation_id\"] = id\n",
    "df[\"affiliation_name\"] = name\n",
    "df[\"affiliation_country\"] = country\n"
   ]
  },
  {
   "cell_type": "code",
   "execution_count": null,
   "metadata": {},
   "outputs": [],
   "source": [
    "df[:7]"
   ]
  },
  {
   "cell_type": "code",
   "execution_count": null,
   "metadata": {},
   "outputs": [],
   "source": [
    "# Cell below simliar to the top cell, whereas I change only the filename for the converted csv files relative to the years of csv file publications."
   ]
  },
  {
   "cell_type": "code",
   "execution_count": null,
   "metadata": {},
   "outputs": [],
   "source": [
    "header = [\"eid\", \"affiliation_id\", \"affiliation_name\", \"affiliation_country\"]\n",
    "df.to_csv('affiliations_1986_2007.csv', columns = header, index = False)"
   ]
  },
  {
   "cell_type": "code",
   "execution_count": null,
   "metadata": {},
   "outputs": [],
   "source": [
    "#Get all countries referenced in the papers in a list\n",
    "ctrylist = []\n",
    "\n",
    "for x in range(0,len(data)):\n",
    "    if 'abstracts-retrieval-response' in data[x].keys():\n",
    "        if 'affiliation' in data[x]['abstracts-retrieval-response'].keys():\n",
    "            ctrylist.append(data[x]['abstracts-retrieval-response']['affiliation'][0]['affiliation-country'])\n",
    "        else:\n",
    "            ctrylist.append(\"NaN\")\n",
    "    else:\n",
    "        ctrylist.append(\"NaN\")\n",
    "        \n",
    "len(ctrylist)"
   ]
  },
  {
   "cell_type": "code",
   "execution_count": null,
   "metadata": {},
   "outputs": [],
   "source": [
    "len(ctrylist)"
   ]
  },
  {
   "cell_type": "code",
   "execution_count": null,
   "metadata": {
    "scrolled": true
   },
   "outputs": [],
   "source": [
    "print(data[7342]['abstracts-retrieval-response']['dc:description']['abstract'][1]['@xml:lang'])"
   ]
  },
  {
   "cell_type": "code",
   "execution_count": null,
   "metadata": {},
   "outputs": [],
   "source": [
    "#Get all eid (unique identifiers) of papers in a list\n",
    "eid = []\n",
    "\n",
    "for x in range(4145,len(data)):\n",
    "    print(x)\n",
    "    if 'abstracts-retrieval-response' in data[x].keys():\n",
    "        if 'dc:description' in data[x]['abstracts-retrieval-response']['coredata'].keys():\n",
    "            langList.append(data[x]['abstracts-retrieval-response']['coredata']['dc:description']['abstract'][0]['@xml:lang'])\n",
    "        else:\n",
    "            langList.append('NaN')\n",
    "    else:\n",
    "        print(\"2\",x)"
   ]
  },
  {
   "cell_type": "code",
   "execution_count": null,
   "metadata": {},
   "outputs": [],
   "source": []
  }
 ],
 "metadata": {
  "kernelspec": {
   "display_name": "Python 3",
   "language": "python",
   "name": "python3"
  },
  "language_info": {
   "codemirror_mode": {
    "name": "ipython",
    "version": 3
   },
   "file_extension": ".py",
   "mimetype": "text/x-python",
   "name": "python",
   "nbconvert_exporter": "python",
   "pygments_lexer": "ipython3",
   "version": "3.6.5"
  }
 },
 "nbformat": 4,
 "nbformat_minor": 2
}
