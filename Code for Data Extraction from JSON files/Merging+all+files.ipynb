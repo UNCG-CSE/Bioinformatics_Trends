{
 "cells": [
  {
   "cell_type": "code",
   "execution_count": 1,
   "metadata": {},
   "outputs": [],
   "source": [
    "import pandas as pd\n",
    "\n",
    "df1 = pd.read_csv(r'C:\\Users\\Darpan\\Desktop\\Subjects\\Data Science\\Merged data (mouna,logan,darpan)\\1986-2007_merged.csv',encoding='cp1252', dtype='str', error_bad_lines=False)\n",
    "df2 = pd.read_csv(r'C:\\Users\\Darpan\\Desktop\\Subjects\\Data Science\\Merged data (mouna,logan,darpan)\\2008-2009_merged.csv',encoding='cp1252', dtype='str', error_bad_lines=False)\n",
    "df3 = pd.read_csv(r'C:\\Users\\Darpan\\Desktop\\Subjects\\Data Science\\Merged data (mouna,logan,darpan)\\2010-2011_merged.csv',encoding='cp1252', dtype='str', error_bad_lines=False)\n",
    "df4 = pd.read_csv(r'C:\\Users\\Darpan\\Desktop\\Subjects\\Data Science\\Merged data (mouna,logan,darpan)\\2012-2013_merged.csv',encoding='cp1252', dtype='str', error_bad_lines=False)\n",
    "df5 = pd.read_csv(r'C:\\Users\\Darpan\\Desktop\\Subjects\\Data Science\\Merged data (mouna,logan,darpan)\\2014-2015_merged.csv',encoding='cp1252', dtype='str', error_bad_lines=False)\n",
    "df6 = pd.read_csv(r'C:\\Users\\Darpan\\Desktop\\Subjects\\Data Science\\Merged data (mouna,logan,darpan)\\2016-2017_merged.csv',encoding='cp1252', dtype='str', error_bad_lines=False)"
   ]
  },
  {
   "cell_type": "code",
   "execution_count": 2,
   "metadata": {},
   "outputs": [
    {
     "data": {
      "text/plain": [
       "(98599, 12)"
      ]
     },
     "execution_count": 2,
     "metadata": {},
     "output_type": "execute_result"
    }
   ],
   "source": [
    "df_merged = df1.append(df2, ignore_index=True)\n",
    "df_merged = df_merged.append(df2, ignore_index=True)\n",
    "df_merged = df_merged.append(df3, ignore_index=True)\n",
    "df_merged = df_merged.append(df4, ignore_index=True)\n",
    "df_merged = df_merged.append(df5, ignore_index=True)\n",
    "df_merged = df_merged.append(df6, ignore_index=True)\n",
    "df_merged.shape"
   ]
  },
  {
   "cell_type": "code",
   "execution_count": 3,
   "metadata": {},
   "outputs": [
    {
     "data": {
      "text/html": [
       "<div>\n",
       "<style>\n",
       "    .dataframe thead tr:only-child th {\n",
       "        text-align: right;\n",
       "    }\n",
       "\n",
       "    .dataframe thead th {\n",
       "        text-align: left;\n",
       "    }\n",
       "\n",
       "    .dataframe tbody tr th {\n",
       "        vertical-align: top;\n",
       "    }\n",
       "</style>\n",
       "<table border=\"1\" class=\"dataframe\">\n",
       "  <thead>\n",
       "    <tr style=\"text-align: right;\">\n",
       "      <th></th>\n",
       "      <th>eid</th>\n",
       "      <th>cite</th>\n",
       "      <th>Lang</th>\n",
       "      <th>Para</th>\n",
       "      <th>Title</th>\n",
       "      <th>year</th>\n",
       "      <th>publication_name</th>\n",
       "      <th>publication_type</th>\n",
       "      <th>Author Keyword</th>\n",
       "      <th>Abbreviation</th>\n",
       "      <th>Code</th>\n",
       "      <th>Text</th>\n",
       "    </tr>\n",
       "  </thead>\n",
       "  <tbody>\n",
       "    <tr>\n",
       "      <th>0</th>\n",
       "      <td>2-s2.0-38049161948</td>\n",
       "      <td>2</td>\n",
       "      <td>eng</td>\n",
       "      <td>Prion proteins (PrPs) are infectious pathogens...</td>\n",
       "      <td>Comparative bioinformatics analysis of prion p...</td>\n",
       "      <td>2007</td>\n",
       "      <td>Experimental and Molecular Medicine</td>\n",
       "      <td>Journal</td>\n",
       "      <td>['Computational biology', 'Neurodegenerative d...</td>\n",
       "      <td>BIOC</td>\n",
       "      <td>1303</td>\n",
       "      <td>Biochemistry</td>\n",
       "    </tr>\n",
       "    <tr>\n",
       "      <th>1</th>\n",
       "      <td>2-s2.0-36749042030</td>\n",
       "      <td>17</td>\n",
       "      <td>eng</td>\n",
       "      <td>CCAP, the largest European protistan culture c...</td>\n",
       "      <td>The Culture Collection of Algae and Protozoa (...</td>\n",
       "      <td>2007</td>\n",
       "      <td>Gene</td>\n",
       "      <td>Journal</td>\n",
       "      <td>['Biodiversity', 'Biological resource centre',...</td>\n",
       "      <td>BIOC</td>\n",
       "      <td>1311</td>\n",
       "      <td>Genetics</td>\n",
       "    </tr>\n",
       "    <tr>\n",
       "      <th>2</th>\n",
       "      <td>2-s2.0-84858487958</td>\n",
       "      <td>0</td>\n",
       "      <td>eng</td>\n",
       "      <td>It is increasingly difficult for teaching to k...</td>\n",
       "      <td>Developing a multidisciplinary online cyberinf...</td>\n",
       "      <td>2007</td>\n",
       "      <td>ASEE Annual Conference and Exposition, Confere...</td>\n",
       "      <td>Conference Proceeding</td>\n",
       "      <td>NaN</td>\n",
       "      <td>BIOC</td>\n",
       "      <td>1311</td>\n",
       "      <td>Genetics</td>\n",
       "    </tr>\n",
       "    <tr>\n",
       "      <th>3</th>\n",
       "      <td>2-s2.0-84858511527</td>\n",
       "      <td>0</td>\n",
       "      <td>eng</td>\n",
       "      <td>This paper provides an overview of design and ...</td>\n",
       "      <td>Integration of bioinformatics in science curri...</td>\n",
       "      <td>2007</td>\n",
       "      <td>ASEE Annual Conference and Exposition, Confere...</td>\n",
       "      <td>Conference Proceeding</td>\n",
       "      <td>NaN</td>\n",
       "      <td>ENGI</td>\n",
       "      <td>2200</td>\n",
       "      <td>Engineering (all)</td>\n",
       "    </tr>\n",
       "    <tr>\n",
       "      <th>4</th>\n",
       "      <td>2-s2.0-84858503835</td>\n",
       "      <td>0</td>\n",
       "      <td>eng</td>\n",
       "      <td>Rapid advances in scientific engineering and c...</td>\n",
       "      <td>A project-centric approach for cyberinfrastruc...</td>\n",
       "      <td>2007</td>\n",
       "      <td>ASEE Annual Conference and Exposition, Confere...</td>\n",
       "      <td>Conference Proceeding</td>\n",
       "      <td>NaN</td>\n",
       "      <td>ENGI</td>\n",
       "      <td>2200</td>\n",
       "      <td>Engineering (all)</td>\n",
       "    </tr>\n",
       "  </tbody>\n",
       "</table>\n",
       "</div>"
      ],
      "text/plain": [
       "                  eid cite Lang  \\\n",
       "0  2-s2.0-38049161948    2  eng   \n",
       "1  2-s2.0-36749042030   17  eng   \n",
       "2  2-s2.0-84858487958    0  eng   \n",
       "3  2-s2.0-84858511527    0  eng   \n",
       "4  2-s2.0-84858503835    0  eng   \n",
       "\n",
       "                                                Para  \\\n",
       "0  Prion proteins (PrPs) are infectious pathogens...   \n",
       "1  CCAP, the largest European protistan culture c...   \n",
       "2  It is increasingly difficult for teaching to k...   \n",
       "3  This paper provides an overview of design and ...   \n",
       "4  Rapid advances in scientific engineering and c...   \n",
       "\n",
       "                                               Title  year  \\\n",
       "0  Comparative bioinformatics analysis of prion p...  2007   \n",
       "1  The Culture Collection of Algae and Protozoa (...  2007   \n",
       "2  Developing a multidisciplinary online cyberinf...  2007   \n",
       "3  Integration of bioinformatics in science curri...  2007   \n",
       "4  A project-centric approach for cyberinfrastruc...  2007   \n",
       "\n",
       "                                    publication_name       publication_type  \\\n",
       "0                Experimental and Molecular Medicine                Journal   \n",
       "1                                               Gene                Journal   \n",
       "2  ASEE Annual Conference and Exposition, Confere...  Conference Proceeding   \n",
       "3  ASEE Annual Conference and Exposition, Confere...  Conference Proceeding   \n",
       "4  ASEE Annual Conference and Exposition, Confere...  Conference Proceeding   \n",
       "\n",
       "                                      Author Keyword Abbreviation  Code  \\\n",
       "0  ['Computational biology', 'Neurodegenerative d...         BIOC  1303   \n",
       "1  ['Biodiversity', 'Biological resource centre',...         BIOC  1311   \n",
       "2                                                NaN         BIOC  1311   \n",
       "3                                                NaN         ENGI  2200   \n",
       "4                                                NaN         ENGI  2200   \n",
       "\n",
       "                Text  \n",
       "0       Biochemistry  \n",
       "1           Genetics  \n",
       "2           Genetics  \n",
       "3  Engineering (all)  \n",
       "4  Engineering (all)  "
      ]
     },
     "execution_count": 3,
     "metadata": {},
     "output_type": "execute_result"
    }
   ],
   "source": [
    "df_merged.head()"
   ]
  },
  {
   "cell_type": "code",
   "execution_count": 8,
   "metadata": {},
   "outputs": [
    {
     "data": {
      "text/plain": [
       "(85082, 12)"
      ]
     },
     "execution_count": 8,
     "metadata": {},
     "output_type": "execute_result"
    }
   ],
   "source": [
    "df_merged.drop_duplicates(inplace=True)\n",
    "df_merged.shape"
   ]
  },
  {
   "cell_type": "code",
   "execution_count": 9,
   "metadata": {},
   "outputs": [
    {
     "data": {
      "text/plain": [
       "True"
      ]
     },
     "execution_count": 9,
     "metadata": {},
     "output_type": "execute_result"
    }
   ],
   "source": [
    "df_merged.eid.is_unique"
   ]
  },
  {
   "cell_type": "code",
   "execution_count": 11,
   "metadata": {},
   "outputs": [],
   "source": [
    "df_merged.to_csv(r'C:\\Users\\Darpan\\Desktop\\Subjects\\Data Science\\Merged data (mouna,logan,darpan)\\All Years Merged File\\all_years_merged(logan,mouna,darpan).csv', index=False)"
   ]
  },
  {
   "cell_type": "code",
   "execution_count": null,
   "metadata": {
    "collapsed": true
   },
   "outputs": [],
   "source": []
  }
 ],
 "metadata": {
  "kernelspec": {
   "display_name": "Python 3",
   "language": "python",
   "name": "python3"
  },
  "language_info": {
   "codemirror_mode": {
    "name": "ipython",
    "version": 3
   },
   "file_extension": ".py",
   "mimetype": "text/x-python",
   "name": "python",
   "nbconvert_exporter": "python",
   "pygments_lexer": "ipython3",
   "version": "3.6.3"
  }
 },
 "nbformat": 4,
 "nbformat_minor": 2
}
