{
 "cells": [
  {
   "cell_type": "code",
   "execution_count": 1,
   "metadata": {
    "collapsed": true
   },
   "outputs": [],
   "source": [
    "#Loading Json file\n",
    "import json\n",
    "json_data1617 = open(r'C:\\Users\\Mouna\\Desktop\\Fall2018\\DataScience\\Project\\JSON\\scopus2016-2017.json').read()\n",
    "data1617=json.loads(json_data1617)"
   ]
  },
  {
   "cell_type": "code",
   "execution_count": 7,
   "metadata": {
    "collapsed": true
   },
   "outputs": [],
   "source": [
    "# All publication types for year 2016-2017 are appended to list \n",
    "publication_type1617 =[]\n",
    "for x in data1617:\n",
    "    #print(x)\n",
    "    if 'abstracts-retrieval-response' in x:\n",
    "            publication_type1617.append(x['abstracts-retrieval-response']['coredata']['prism:aggregationType'])\n",
    "    else:\n",
    "            #print(\"not here\")\n",
    "        publication_type1617.append('NaN')\n",
    "   "
   ]
  },
  {
   "cell_type": "code",
   "execution_count": 9,
   "metadata": {},
   "outputs": [
    {
     "data": {
      "text/plain": [
       "['Studies in Computational Intelligence',\n",
       " 'Meta Gene',\n",
       " 'BBA Clinical',\n",
       " 'Journal of Computational and Nonlinear Dynamics']"
      ]
     },
     "execution_count": 9,
     "metadata": {},
     "output_type": "execute_result"
    }
   ],
   "source": [
    "publication_name1617[:4]"
   ]
  },
  {
   "cell_type": "code",
   "execution_count": 10,
   "metadata": {},
   "outputs": [
    {
     "data": {
      "text/plain": [
       "7342"
      ]
     },
     "execution_count": 10,
     "metadata": {},
     "output_type": "execute_result"
    }
   ],
   "source": [
    "len(publication_name1617)"
   ]
  },
  {
   "cell_type": "code",
   "execution_count": 11,
   "metadata": {},
   "outputs": [
    {
     "data": {
      "text/plain": [
       "[816, 1941, 3192]"
      ]
     },
     "execution_count": 11,
     "metadata": {},
     "output_type": "execute_result"
    }
   ],
   "source": [
    "# checking for NaN values\n",
    "[i for i, e in enumerate(publication_name1617) if e == 'NaN']"
   ]
  },
  {
   "cell_type": "code",
   "execution_count": 8,
   "metadata": {
    "collapsed": true
   },
   "outputs": [],
   "source": [
    "# list for publication name\n",
    "publication_name1617 =[]\n",
    "for x in data1617:\n",
    "    #print(x)\n",
    "    if 'abstracts-retrieval-response' in x:\n",
    "            publication_name1617.append(x['abstracts-retrieval-response']['coredata']['prism:publicationName'])\n",
    "    else:\n",
    "            #print(\"not here\")\n",
    "        publication_name1617.append('NaN')"
   ]
  },
  {
   "cell_type": "code",
   "execution_count": 12,
   "metadata": {
    "collapsed": true
   },
   "outputs": [],
   "source": [
    "# list for published year\n",
    "year1617 =[]\n",
    "for x in data1617:\n",
    "    #print(x)\n",
    "    if 'abstracts-retrieval-response' in x:\n",
    "        if 'publicationyear' in x['abstracts-retrieval-response']['item']['bibrecord']['head']['source']:\n",
    "            year1617.append(x['abstracts-retrieval-response']['item']['bibrecord']['head']['source']['publicationyear']['@first'])\n",
    "        else:\n",
    "            year1617.append('NaN')\n",
    "    else:\n",
    "        year1617.append('NaN')"
   ]
  },
  {
   "cell_type": "code",
   "execution_count": 13,
   "metadata": {
    "collapsed": true
   },
   "outputs": [],
   "source": [
    "# creating dataframe\n",
    "import pandas as pd\n",
    "df = pd.DataFrame()"
   ]
  },
  {
   "cell_type": "code",
   "execution_count": 15,
   "metadata": {
    "collapsed": true
   },
   "outputs": [],
   "source": [
    "#adding lists to the dataframe\n",
    "df[\"year\"] = year1617\n",
    "df[\"publication_name\"]=publication_name1617\n",
    "df[\"publication_type\"]=publication_type1617"
   ]
  },
  {
   "cell_type": "code",
   "execution_count": 16,
   "metadata": {
    "collapsed": true
   },
   "outputs": [],
   "source": [
    "# Create csv from dataframe\n",
    "header = [\"year\",\"publication_name\",\"publication_type\"]\n",
    "df.to_csv('2016-2017.csv', columns=header,index=False)"
   ]
  }
 ],
 "metadata": {
  "kernelspec": {
   "display_name": "Python 3",
   "language": "python",
   "name": "python3"
  },
  "language_info": {
   "codemirror_mode": {
    "name": "ipython",
    "version": 3
   },
   "file_extension": ".py",
   "mimetype": "text/x-python",
   "name": "python",
   "nbconvert_exporter": "python",
   "pygments_lexer": "ipython3",
   "version": "3.6.3"
  }
 },
 "nbformat": 4,
 "nbformat_minor": 2
}
