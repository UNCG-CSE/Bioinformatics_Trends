{
 "cells": [
  {
   "cell_type": "code",
   "execution_count": null,
   "metadata": {
    "collapsed": true
   },
   "outputs": [],
   "source": [
    "import pandas as pd\n",
    "\n",
    "df1 = pd.read_csv(r'C:\\Users\\Darpan\\Desktop\\Subjects\\Data Science\\Extracted data\\Luke\\authorAffil_86_07.csv',encoding='cp1252', dtype='str', error_bad_lines=False)\n",
    "df2 = pd.read_csv(r'C:\\Users\\Darpan\\Desktop\\Subjects\\Data Science\\Extracted data\\Luke\\authorAffil_08_09.csv',encoding='cp1252', dtype='str', error_bad_lines=False)\n",
    "df3 = pd.read_csv(r'C:\\Users\\Darpan\\Desktop\\Subjects\\Data Science\\Extracted data\\Luke\\authorAffil_10_11.csv',encoding='cp1252', dtype='str', error_bad_lines=False)\n",
    "df4 = pd.read_csv(r'C:\\Users\\Darpan\\Desktop\\Subjects\\Data Science\\Extracted data\\Luke\\authorAffil_12_13.csv',encoding='cp1252', dtype='str', error_bad_lines=False)\n",
    "df5 = pd.read_csv(r'C:\\Users\\Darpan\\Desktop\\Subjects\\Data Science\\Extracted data\\Luke\\authorAffil_14_15.csv',encoding='cp1252', dtype='str', error_bad_lines=False)\n",
    "df6 = pd.read_csv(r'C:\\Users\\Darpan\\Desktop\\Subjects\\Data Science\\Extracted data\\Luke\\authorAffil_16_17.csv',encoding='cp1252', dtype='str', error_bad_lines=False)"
   ]
  },
  {
   "cell_type": "code",
   "execution_count": null,
   "metadata": {},
   "outputs": [],
   "source": [
    "df_merged = df1.append(df2, ignore_index=True)\n",
    "df_merged = df_merged.append(df2, ignore_index=True)\n",
    "df_merged = df_merged.append(df3, ignore_index=True)\n",
    "df_merged = df_merged.append(df4, ignore_index=True)\n",
    "df_merged = df_merged.append(df5, ignore_index=True)\n",
    "df_merged = df_merged.append(df6, ignore_index=True)\n",
    "df_merged.shape"
   ]
  },
  {
   "cell_type": "code",
   "execution_count": null,
   "metadata": {
    "scrolled": true
   },
   "outputs": [],
   "source": [
    "del df_merged['Unnamed: 0']\n",
    "df_merged.head()"
   ]
  },
  {
   "cell_type": "code",
   "execution_count": null,
   "metadata": {},
   "outputs": [],
   "source": [
    "df_merged.drop_duplicates(inplace=True)\n",
    "df_merged.shape"
   ]
  },
  {
   "cell_type": "code",
   "execution_count": null,
   "metadata": {
    "collapsed": true
   },
   "outputs": [],
   "source": [
    "df_merged.to_csv(r'C:\\Users\\Darpan\\Desktop\\Subjects\\Data Science\\Merged data (luke,steve)\\all_years_merged(luke-AuthorAffiliations).csv', index=False)"
   ]
  },
  {
   "cell_type": "code",
   "execution_count": null,
   "metadata": {
    "collapsed": true
   },
   "outputs": [],
   "source": [
    "import pandas as pd\n",
    "\n",
    "df1 = pd.read_csv(r'C:\\Users\\Darpan\\Desktop\\Subjects\\Data Science\\Extracted data\\Luke\\authorData_86_07.csv',encoding='cp1252', dtype='str', error_bad_lines=False)\n",
    "df2 = pd.read_csv(r'C:\\Users\\Darpan\\Desktop\\Subjects\\Data Science\\Extracted data\\Luke\\authorData_08_09.csv',encoding='cp1252', dtype='str', error_bad_lines=False)\n",
    "df3 = pd.read_csv(r'C:\\Users\\Darpan\\Desktop\\Subjects\\Data Science\\Extracted data\\Luke\\authorData_10_11.csv',encoding='cp1252', dtype='str', error_bad_lines=False)\n",
    "df4 = pd.read_csv(r'C:\\Users\\Darpan\\Desktop\\Subjects\\Data Science\\Extracted data\\Luke\\authorData_12_13.csv',encoding='cp1252', dtype='str', error_bad_lines=False)\n",
    "df5 = pd.read_csv(r'C:\\Users\\Darpan\\Desktop\\Subjects\\Data Science\\Extracted data\\Luke\\authorData_14_15.csv',encoding='cp1252', dtype='str', error_bad_lines=False)\n",
    "df6 = pd.read_csv(r'C:\\Users\\Darpan\\Desktop\\Subjects\\Data Science\\Extracted data\\Luke\\authorData_16_17.csv',encoding='cp1252', dtype='str', error_bad_lines=False)"
   ]
  },
  {
   "cell_type": "code",
   "execution_count": null,
   "metadata": {},
   "outputs": [],
   "source": [
    "df_merged = df1.append(df2, ignore_index=True)\n",
    "df_merged = df_merged.append(df2, ignore_index=True)\n",
    "df_merged = df_merged.append(df3, ignore_index=True)\n",
    "df_merged = df_merged.append(df4, ignore_index=True)\n",
    "df_merged = df_merged.append(df5, ignore_index=True)\n",
    "df_merged = df_merged.append(df6, ignore_index=True)\n",
    "df_merged.shape"
   ]
  },
  {
   "cell_type": "code",
   "execution_count": null,
   "metadata": {
    "scrolled": true
   },
   "outputs": [],
   "source": [
    "del df_merged['Unnamed: 0']\n",
    "df_merged.head()"
   ]
  },
  {
   "cell_type": "code",
   "execution_count": null,
   "metadata": {},
   "outputs": [],
   "source": [
    "df_merged.drop_duplicates(inplace=True)\n",
    "df_merged.shape"
   ]
  },
  {
   "cell_type": "code",
   "execution_count": null,
   "metadata": {
    "collapsed": true
   },
   "outputs": [],
   "source": [
    "df_merged.to_csv(r'C:\\Users\\Darpan\\Desktop\\Subjects\\Data Science\\Merged data (luke,steve)\\all_years_merged(luke-AuthorData).csv', index=False)"
   ]
  },
  {
   "cell_type": "code",
   "execution_count": 2,
   "metadata": {
    "scrolled": true
   },
   "outputs": [],
   "source": [
    "import pandas as pd\n",
    "\n",
    "df1 = pd.read_csv(r'C:\\Users\\Darpan\\Desktop\\Subjects\\Data Science\\Extracted data\\Steve\\affiliations_1986_2007.csv', dtype='str', error_bad_lines=False)\n",
    "df2 = pd.read_csv(r'C:\\Users\\Darpan\\Desktop\\Subjects\\Data Science\\Extracted data\\Steve\\affiliations_2008_2009.csv', dtype='str', error_bad_lines=False)\n",
    "df3 = pd.read_csv(r'C:\\Users\\Darpan\\Desktop\\Subjects\\Data Science\\Extracted data\\Steve\\affiliations_2010_2011.csv', dtype='str', error_bad_lines=False)\n",
    "df4 = pd.read_csv(r'C:\\Users\\Darpan\\Desktop\\Subjects\\Data Science\\Extracted data\\Steve\\affiliations_2012_2013.csv', dtype='str', error_bad_lines=False)\n",
    "df5 = pd.read_csv(r'C:\\Users\\Darpan\\Desktop\\Subjects\\Data Science\\Extracted data\\Steve\\affiliations_2014_2015.csv', dtype='str', error_bad_lines=False)\n",
    "df6 = pd.read_csv(r'C:\\Users\\Darpan\\Desktop\\Subjects\\Data Science\\Extracted data\\Steve\\affiliations_2016_2017.csv', dtype='str', error_bad_lines=False)"
   ]
  },
  {
   "cell_type": "code",
   "execution_count": 3,
   "metadata": {},
   "outputs": [
    {
     "data": {
      "text/plain": [
       "(200648, 4)"
      ]
     },
     "execution_count": 3,
     "metadata": {},
     "output_type": "execute_result"
    }
   ],
   "source": [
    "df_merged = df1.append(df2, ignore_index=True)\n",
    "df_merged = df_merged.append(df2, ignore_index=True)\n",
    "df_merged = df_merged.append(df3, ignore_index=True)\n",
    "df_merged = df_merged.append(df4, ignore_index=True)\n",
    "df_merged = df_merged.append(df5, ignore_index=True)\n",
    "df_merged = df_merged.append(df6, ignore_index=True)\n",
    "df_merged.shape"
   ]
  },
  {
   "cell_type": "code",
   "execution_count": 5,
   "metadata": {
    "scrolled": true
   },
   "outputs": [
    {
     "data": {
      "text/html": [
       "<div>\n",
       "<style>\n",
       "    .dataframe thead tr:only-child th {\n",
       "        text-align: right;\n",
       "    }\n",
       "\n",
       "    .dataframe thead th {\n",
       "        text-align: left;\n",
       "    }\n",
       "\n",
       "    .dataframe tbody tr th {\n",
       "        vertical-align: top;\n",
       "    }\n",
       "</style>\n",
       "<table border=\"1\" class=\"dataframe\">\n",
       "  <thead>\n",
       "    <tr style=\"text-align: right;\">\n",
       "      <th></th>\n",
       "      <th>eid</th>\n",
       "      <th>affiliation_id</th>\n",
       "      <th>affiliation_name</th>\n",
       "      <th>affiliation_country</th>\n",
       "    </tr>\n",
       "  </thead>\n",
       "  <tbody>\n",
       "    <tr>\n",
       "      <th>0</th>\n",
       "      <td>2-s2.0-38049161948</td>\n",
       "      <td>60092867</td>\n",
       "      <td>Korea Institute of Science and Technology Info...</td>\n",
       "      <td>South Korea</td>\n",
       "    </tr>\n",
       "    <tr>\n",
       "      <th>1</th>\n",
       "      <td>2-s2.0-38049161948</td>\n",
       "      <td>60013682</td>\n",
       "      <td>Seoul National University</td>\n",
       "      <td>South Korea</td>\n",
       "    </tr>\n",
       "    <tr>\n",
       "      <th>2</th>\n",
       "      <td>2-s2.0-36749042030</td>\n",
       "      <td>60026195</td>\n",
       "      <td>The Scottish Association for Marine Science</td>\n",
       "      <td>United Kingdom</td>\n",
       "    </tr>\n",
       "    <tr>\n",
       "      <th>3</th>\n",
       "      <td>2-s2.0-84858487958</td>\n",
       "      <td>60005472</td>\n",
       "      <td>Bluefield State College</td>\n",
       "      <td>United States</td>\n",
       "    </tr>\n",
       "    <tr>\n",
       "      <th>4</th>\n",
       "      <td>2-s2.0-84858487958</td>\n",
       "      <td>60027090</td>\n",
       "      <td>Virginia Polytechnic Institute and State Unive...</td>\n",
       "      <td>United States</td>\n",
       "    </tr>\n",
       "  </tbody>\n",
       "</table>\n",
       "</div>"
      ],
      "text/plain": [
       "                  eid affiliation_id  \\\n",
       "0  2-s2.0-38049161948       60092867   \n",
       "1  2-s2.0-38049161948       60013682   \n",
       "2  2-s2.0-36749042030       60026195   \n",
       "3  2-s2.0-84858487958       60005472   \n",
       "4  2-s2.0-84858487958       60027090   \n",
       "\n",
       "                                    affiliation_name affiliation_country  \n",
       "0  Korea Institute of Science and Technology Info...         South Korea  \n",
       "1                          Seoul National University         South Korea  \n",
       "2        The Scottish Association for Marine Science      United Kingdom  \n",
       "3                            Bluefield State College       United States  \n",
       "4  Virginia Polytechnic Institute and State Unive...       United States  "
      ]
     },
     "execution_count": 5,
     "metadata": {},
     "output_type": "execute_result"
    }
   ],
   "source": [
    "df_merged.head()"
   ]
  },
  {
   "cell_type": "code",
   "execution_count": 6,
   "metadata": {},
   "outputs": [
    {
     "data": {
      "text/plain": [
       "(175053, 4)"
      ]
     },
     "execution_count": 6,
     "metadata": {},
     "output_type": "execute_result"
    }
   ],
   "source": [
    "df_merged.drop_duplicates(inplace=True)\n",
    "df_merged.shape"
   ]
  },
  {
   "cell_type": "code",
   "execution_count": 7,
   "metadata": {
    "collapsed": true
   },
   "outputs": [],
   "source": [
    "df_merged.to_csv(r'C:\\Users\\Darpan\\Desktop\\Subjects\\Data Science\\Merged data (luke,steve)\\all_years_merged(steve-AffiliationData).csv', index=False)"
   ]
  },
  {
   "cell_type": "code",
   "execution_count": null,
   "metadata": {
    "collapsed": true
   },
   "outputs": [],
   "source": []
  }
 ],
 "metadata": {
  "kernelspec": {
   "display_name": "Python 3",
   "language": "python",
   "name": "python3"
  },
  "language_info": {
   "codemirror_mode": {
    "name": "ipython",
    "version": 3
   },
   "file_extension": ".py",
   "mimetype": "text/x-python",
   "name": "python",
   "nbconvert_exporter": "python",
   "pygments_lexer": "ipython3",
   "version": "3.6.3"
  }
 },
 "nbformat": 4,
 "nbformat_minor": 2
}
