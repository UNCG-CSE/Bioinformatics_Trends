{
 "cells": [
  {
   "cell_type": "code",
   "execution_count": 1,
   "metadata": {},
   "outputs": [
    {
     "name": "stdout",
     "output_type": "stream",
     "text": [
      "52208\n"
     ]
    }
   ],
   "source": [
    "import json\n",
    "import pandas\n",
    "import pandas as pd\n",
    "import numpy as np\n",
    "\n",
    "df = pd.DataFrame()\n",
    "df = pd.read_csv(r'C:\\Users\\Luke\\Downloads\\authorAffil_16_17.csv',dtype='str', sep=',', error_bad_lines=False)\n",
    "df.shape\n",
    "print(len(df))"
   ]
  },
  {
   "cell_type": "code",
   "execution_count": null,
   "metadata": {},
   "outputs": [],
   "source": [
    "df.eid"
   ]
  },
  {
   "cell_type": "code",
   "execution_count": null,
   "metadata": {},
   "outputs": [],
   "source": [
    "del df['Unnamed: 0']"
   ]
  },
  {
   "cell_type": "code",
   "execution_count": null,
   "metadata": {},
   "outputs": [],
   "source": [
    "df.ix[11300]"
   ]
  },
  {
   "cell_type": "code",
   "execution_count": 2,
   "metadata": {},
   "outputs": [
    {
     "data": {
      "text/plain": [
       "(array([ 5414, 13876, 22379], dtype=int64),)"
      ]
     },
     "execution_count": 2,
     "metadata": {},
     "output_type": "execute_result"
    }
   ],
   "source": [
    "np.where(pd.isnull(df.eid))"
   ]
  },
  {
   "cell_type": "code",
   "execution_count": 3,
   "metadata": {},
   "outputs": [
    {
     "data": {
      "text/html": [
       "<div>\n",
       "<style scoped>\n",
       "    .dataframe tbody tr th:only-of-type {\n",
       "        vertical-align: middle;\n",
       "    }\n",
       "\n",
       "    .dataframe tbody tr th {\n",
       "        vertical-align: top;\n",
       "    }\n",
       "\n",
       "    .dataframe thead th {\n",
       "        text-align: right;\n",
       "    }\n",
       "</style>\n",
       "<table border=\"1\" class=\"dataframe\">\n",
       "  <thead>\n",
       "    <tr style=\"text-align: right;\">\n",
       "      <th></th>\n",
       "      <th>Unnamed: 0</th>\n",
       "      <th>eid</th>\n",
       "      <th>Author ID</th>\n",
       "      <th>Affiliation ID</th>\n",
       "    </tr>\n",
       "  </thead>\n",
       "  <tbody>\n",
       "    <tr>\n",
       "      <th>count</th>\n",
       "      <td>52208</td>\n",
       "      <td>52205</td>\n",
       "      <td>52131</td>\n",
       "      <td>51323</td>\n",
       "    </tr>\n",
       "    <tr>\n",
       "      <th>unique</th>\n",
       "      <td>52208</td>\n",
       "      <td>7339</td>\n",
       "      <td>39017</td>\n",
       "      <td>6249</td>\n",
       "    </tr>\n",
       "    <tr>\n",
       "      <th>top</th>\n",
       "      <td>23167</td>\n",
       "      <td>2-s2.0-84957605211</td>\n",
       "      <td>15923262500</td>\n",
       "      <td>60028186</td>\n",
       "    </tr>\n",
       "    <tr>\n",
       "      <th>freq</th>\n",
       "      <td>1</td>\n",
       "      <td>808</td>\n",
       "      <td>28</td>\n",
       "      <td>716</td>\n",
       "    </tr>\n",
       "  </tbody>\n",
       "</table>\n",
       "</div>"
      ],
      "text/plain": [
       "       Unnamed: 0                 eid    Author ID Affiliation ID\n",
       "count       52208               52205        52131          51323\n",
       "unique      52208                7339        39017           6249\n",
       "top         23167  2-s2.0-84957605211  15923262500       60028186\n",
       "freq            1                 808           28            716"
      ]
     },
     "execution_count": 3,
     "metadata": {},
     "output_type": "execute_result"
    }
   ],
   "source": [
    "df.describe()"
   ]
  },
  {
   "cell_type": "code",
   "execution_count": null,
   "metadata": {},
   "outputs": [],
   "source": [
    "df.eid.nunique()"
   ]
  },
  {
   "cell_type": "code",
   "execution_count": null,
   "metadata": {},
   "outputs": [],
   "source": [
    "len(df[df.eid == NaN])"
   ]
  },
  {
   "cell_type": "code",
   "execution_count": null,
   "metadata": {},
   "outputs": [],
   "source": [
    "len(df)"
   ]
  },
  {
   "cell_type": "code",
   "execution_count": null,
   "metadata": {},
   "outputs": [],
   "source": [
    "data[194]['abstracts-retrieval-response']['authors'] == None"
   ]
  },
  {
   "cell_type": "code",
   "execution_count": null,
   "metadata": {},
   "outputs": [],
   "source": [
    "isinstance(data[0]['abstracts-retrieval-response']['authors']['author'], list)"
   ]
  },
  {
   "cell_type": "code",
   "execution_count": null,
   "metadata": {},
   "outputs": [],
   "source": [
    "auid = []\n",
    "seq = []\n",
    "indexName = []\n",
    "eid = []\n",
    "\n",
    "for x in range(0,len(data)):\n",
    "    if 'abstracts-retrieval-response' in data[x].keys():\n",
    "        if 'authors' in data[x]['abstracts-retrieval-response']:\n",
    "            if data[x]['abstracts-retrieval-response']['authors'] == None:\n",
    "                auid.append(\"NaN\")        \n",
    "                seq.append(\"NaN\")          \n",
    "                indexName.append(\"NaN\")\n",
    "                eid.append(data[x]['abstracts-retrieval-response']['coredata']['eid'])\n",
    "            elif 'author' in data[x]['abstracts-retrieval-response']['authors']:\n",
    "                if isinstance(data[x]['abstracts-retrieval-response']['authors']['author'], list):\n",
    "                    for z in range(0,len(data[x]['abstracts-retrieval-response']['authors']['author'])):\n",
    "                        auid.append(data[x]['abstracts-retrieval-response']['authors']['author'][z]['@auid'])\n",
    "                        seq.append(data[x]['abstracts-retrieval-response']['authors']['author'][z]['@seq'])\n",
    "                        indexName.append(data[x]['abstracts-retrieval-response']['authors']['author'][z]['ce:indexed-name'])\n",
    "                        eid.append(data[x]['abstracts-retrieval-response']['coredata']['eid'])\n",
    "                else:\n",
    "                    auid.append(data[x]['abstracts-retrieval-response']['authors']['author']['@auid'])\n",
    "                    seq.append(data[x]['abstracts-retrieval-response']['authors']['author']['@seq'])\n",
    "                    indexName.append(data[x]['abstracts-retrieval-response']['authors']['author']['ce:indexed-name'])\n",
    "                    eid.append(data[x]['abstracts-retrieval-response']['coredata']['eid'])\n",
    "            else:\n",
    "                auid.append(\"NaN\")        \n",
    "                seq.append(\"NaN\")          \n",
    "                indexName.append(\"NaN\")\n",
    "                eid.append(data[x]['abstracts-retrieval-response']['coredata']['eid'])\n",
    "        else:\n",
    "            auid.append(\"NaN\")        \n",
    "            seq.append(\"NaN\")           \n",
    "            indexName.append(\"NaN\")\n",
    "            eid.append(data[x]['abstracts-retrieval-response']['coredata']['eid'])\n",
    "    else:     \n",
    "        auid.append(\"NaN\")        \n",
    "        seq.append(\"NaN\")        \n",
    "        indexName.append(\"NaN\")\n",
    "        eid.append(\"NaN\")\n",
    "\n",
    "print(len(auid))\n",
    "print(len(seq))\n",
    "print(len(indexName))\n",
    "print(len(eid))\n"
   ]
  },
  {
   "cell_type": "code",
   "execution_count": null,
   "metadata": {},
   "outputs": [],
   "source": [
    "df[\"eid\"] = eid\n",
    "df[\"Author ID\"] = auid\n",
    "df[\"Author Sequence\"] = seq\n",
    "df[\"Author Indexed Name\"] = indexName\n",
    "df[:20]"
   ]
  },
  {
   "cell_type": "code",
   "execution_count": null,
   "metadata": {},
   "outputs": [],
   "source": [
    "df.to_csv('authorData_86_07.csv')"
   ]
  },
  {
   "cell_type": "code",
   "execution_count": null,
   "metadata": {},
   "outputs": [],
   "source": [
    "affID = []\n",
    "\n",
    "if isinstance(data[x]['abstracts-retrieval-response']['authors']['author'][z]['affiliation'], list):\n",
    "                            for m in range(0,len(data[x]['abstracts-retrieval-response']['authors']['author'][z]['affiliation'])):\n",
    "                                affID.append(data[x]['abstracts-retrieval-response']['authors']['author'][z]['affiliation'][m]['@id'])\n",
    "                        else:\n",
    "                            affID.append(data[x]['abstracts-retrieval-response']['authors']['author'][z]['affiliation']['@id'])\n",
    "                            \n",
    "                            \n",
    "if isinstance(data[x]['abstracts-retrieval-response']['authors']['author']['affiliation'], list):\n",
    "    for m in range(0,len(data[x]['abstracts-retrieval-response']['authors']['author']['affiliation'])):\n",
    "        affID.append(data[x]['abstracts-retrieval-response']['authors']['author']['affiliation'][m]['@id'])\n",
    "else:\n",
    "    affID.append(data[x]['abstracts-retrieval-response']['authors']['author']['affiliation']['@id'])"
   ]
  }
 ],
 "metadata": {
  "kernelspec": {
   "display_name": "Python 3",
   "language": "python",
   "name": "python3"
  },
  "language_info": {
   "codemirror_mode": {
    "name": "ipython",
    "version": 3
   },
   "file_extension": ".py",
   "mimetype": "text/x-python",
   "name": "python",
   "nbconvert_exporter": "python",
   "pygments_lexer": "ipython3",
   "version": "3.6.5"
  }
 },
 "nbformat": 4,
 "nbformat_minor": 2
}
